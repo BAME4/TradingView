{
 "cells": [
  {
   "cell_type": "code",
   "execution_count": 383,
   "metadata": {},
   "outputs": [],
   "source": [
    "import pandas as pd\n",
    "import numpy as np\n",
    "import matplotlib.pyplot as plt\n",
    "\n",
    "from keras.models import Sequential\n",
    "from keras.models import Model\n",
    "from keras.layers import Dense,LSTM, SpatialDropout1D,Flatten, LSTM, Conv1D, MaxPooling1D, Dropout, Activation, Input \n",
    "from keras.layers.normalization import BatchNormalization\n",
    "\n",
    "from sklearn.ensemble import ExtraTreesClassifier\n",
    "\n",
    "from gensim.models.doc2vec import Doc2Vec, TaggedDocument\n",
    "from gensim import utils\n",
    "\n",
    "from nltk.tokenize import word_tokenize\n",
    "\n",
    "\n",
    "%matplotlib inline"
   ]
  },
  {
   "cell_type": "code",
   "execution_count": 432,
   "metadata": {
    "collapsed": true
   },
   "outputs": [],
   "source": [
    "def extract(coinname):\n",
    "    df = pd.read_csv('{}.csv'.format(coinname))\n",
    "    df = df.replace(np.inf, np.nan)\n",
    "    df = df.dropna(axis=0)\n",
    "    \n",
    "    return df"
   ]
  },
  {
   "cell_type": "code",
   "execution_count": 385,
   "metadata": {},
   "outputs": [],
   "source": [
    "BTC = extract('BTCUSD')"
   ]
  },
  {
   "cell_type": "code",
   "execution_count": 386,
   "metadata": {
    "collapsed": true
   },
   "outputs": [],
   "source": [
    "BTC['Dec'] = BTC['Topic'] + BTC['Text']"
   ]
  },
  {
   "cell_type": "code",
   "execution_count": 387,
   "metadata": {
    "collapsed": true
   },
   "outputs": [],
   "source": [
    "ETH =extract('ETHUSD')"
   ]
  },
  {
   "cell_type": "code",
   "execution_count": 388,
   "metadata": {
    "collapsed": true
   },
   "outputs": [],
   "source": [
    "ETH['Dec'] = ETH['Topic'] + ETH['Text']"
   ]
  },
  {
   "cell_type": "code",
   "execution_count": 389,
   "metadata": {
    "collapsed": true
   },
   "outputs": [],
   "source": [
    "LTC =extract('LTCUSD')"
   ]
  },
  {
   "cell_type": "code",
   "execution_count": 390,
   "metadata": {
    "collapsed": true
   },
   "outputs": [],
   "source": [
    "LTC['Dec'] = LTC['Topic'] + LTC['Text']"
   ]
  },
  {
   "cell_type": "code",
   "execution_count": 391,
   "metadata": {
    "collapsed": true
   },
   "outputs": [],
   "source": [
    "XRP =extract('XRPUSD')"
   ]
  },
  {
   "cell_type": "code",
   "execution_count": 392,
   "metadata": {
    "collapsed": true
   },
   "outputs": [],
   "source": [
    "XRP['Dec'] = XRP['Topic'] + XRP['Text']"
   ]
  },
  {
   "cell_type": "code",
   "execution_count": 393,
   "metadata": {
    "collapsed": true
   },
   "outputs": [],
   "source": [
    "DASH =extract('DASHUSD')"
   ]
  },
  {
   "cell_type": "code",
   "execution_count": 394,
   "metadata": {
    "collapsed": true
   },
   "outputs": [],
   "source": [
    "DASH['Dec'] = DASH['Topic'] + DASH['Text']"
   ]
  },
  {
   "cell_type": "code",
   "execution_count": 395,
   "metadata": {
    "collapsed": true
   },
   "outputs": [],
   "source": [
    "DOGE =extract('DOGEUSD')"
   ]
  },
  {
   "cell_type": "code",
   "execution_count": 396,
   "metadata": {
    "collapsed": true
   },
   "outputs": [],
   "source": [
    "DOGE['Dec'] = DOGE['Topic'] + DOGE['Text']"
   ]
  },
  {
   "cell_type": "code",
   "execution_count": 397,
   "metadata": {
    "collapsed": true
   },
   "outputs": [],
   "source": [
    "STR =extract('STRUSD')"
   ]
  },
  {
   "cell_type": "code",
   "execution_count": 398,
   "metadata": {
    "collapsed": true
   },
   "outputs": [],
   "source": [
    "STR['Dec'] = STR['Topic'] + STR['Text']"
   ]
  },
  {
   "cell_type": "code",
   "execution_count": 399,
   "metadata": {
    "collapsed": true
   },
   "outputs": [],
   "source": [
    "XMR =extract('XMRUSD')"
   ]
  },
  {
   "cell_type": "code",
   "execution_count": 400,
   "metadata": {
    "collapsed": true
   },
   "outputs": [],
   "source": [
    "XMR['Dec'] = XMR['Topic'] + XMR['Text']"
   ]
  },
  {
   "cell_type": "code",
   "execution_count": null,
   "metadata": {
    "collapsed": true
   },
   "outputs": [],
   "source": []
  },
  {
   "cell_type": "code",
   "execution_count": 401,
   "metadata": {},
   "outputs": [
    {
     "name": "stderr",
     "output_type": "stream",
     "text": [
      "C:\\Users\\saroj\\Anaconda3\\lib\\site-packages\\ipykernel_launcher.py:13: UserWarning: Boolean Series key will be reindexed to match DataFrame index.\n",
      "  del sys.path[0]\n",
      "C:\\Users\\saroj\\Anaconda3\\lib\\site-packages\\ipykernel_launcher.py:15: UserWarning: Boolean Series key will be reindexed to match DataFrame index.\n",
      "  from ipykernel import kernelapp as app\n"
     ]
    }
   ],
   "source": [
    "df = pd.DataFrame(columns=['Dec',  'Direction'])\n",
    "\n",
    "b = BTC[(BTC['Direction'] == 'Long') | (BTC['Direction'] == 'Short')].reset_index(drop=True)[['Dec', 'Direction']]\n",
    "\n",
    "e = ETH[(ETH['Direction'] == 'Long') | (ETH['Direction'] == 'Short')].reset_index(drop=True)[['Dec', 'Direction']]\n",
    "\n",
    "l = LTC[(LTC['Direction'] == 'Long') | (LTC['Direction'] == 'Short')].reset_index(drop=True)[['Dec', 'Direction']]\n",
    "\n",
    "d = DASH[(DASH['Direction'] == 'Long') | (DASH['Direction'] == 'Short')].reset_index(drop=True)[['Dec', 'Direction']]\n",
    "\n",
    "x = XRP[(XRP['Direction'] == 'Long') | (XRP['Direction'] == 'Short')].reset_index(drop=True)[['Dec', 'Direction']]\n",
    "\n",
    "do = DOGE[(ETH['Direction'] == 'Long') | (DOGE['Direction'] == 'Short')].reset_index(drop=True)[['Dec', 'Direction']]\n",
    "\n",
    "s = STR[(ETH['Direction'] == 'Long') | (STR['Direction'] == 'Short')].reset_index(drop=True)[['Dec', 'Direction']]\n",
    "\n",
    "xm = XMR[(XMR['Direction'] == 'Long') | (XMR['Direction'] == 'Short')].reset_index(drop=True)[['Dec', 'Direction']]\n",
    "\n",
    "\n",
    "\n",
    "\n",
    "df = pd.concat([df, b, e, l, d, x, do, s, xm ])"
   ]
  },
  {
   "cell_type": "code",
   "execution_count": 402,
   "metadata": {
    "scrolled": true
   },
   "outputs": [],
   "source": [
    "df = df.reset_index(drop=True)"
   ]
  },
  {
   "cell_type": "code",
   "execution_count": 431,
   "metadata": {},
   "outputs": [
    {
     "ename": "TypeError",
     "evalue": "ufunc 'isnan' not supported for the input types, and the inputs could not be safely coerced to any supported types according to the casting rule ''safe''",
     "output_type": "error",
     "traceback": [
      "\u001b[1;31m---------------------------------------------------------------------------\u001b[0m",
      "\u001b[1;31mTypeError\u001b[0m                                 Traceback (most recent call last)",
      "\u001b[1;32m<ipython-input-431-a85c8ba94d9e>\u001b[0m in \u001b[0;36m<module>\u001b[1;34m()\u001b[0m\n\u001b[1;32m----> 1\u001b[1;33m \u001b[0mnp\u001b[0m\u001b[1;33m.\u001b[0m\u001b[0misnan\u001b[0m\u001b[1;33m(\u001b[0m\u001b[0mdf\u001b[0m\u001b[1;33m)\u001b[0m\u001b[1;33m\u001b[0m\u001b[0m\n\u001b[0m",
      "\u001b[1;31mTypeError\u001b[0m: ufunc 'isnan' not supported for the input types, and the inputs could not be safely coerced to any supported types according to the casting rule ''safe''"
     ]
    }
   ],
   "source": []
  },
  {
   "cell_type": "code",
   "execution_count": 403,
   "metadata": {},
   "outputs": [],
   "source": [
    "for idx, row in df['Dec'].iteritems():\n",
    "    labeledRow.append(TaggedDocument(utils.to_unicode(row).split(), ['Text' + '_%s' % str(idx)]))"
   ]
  },
  {
   "cell_type": "code",
   "execution_count": 404,
   "metadata": {},
   "outputs": [
    {
     "name": "stderr",
     "output_type": "stream",
     "text": [
      "WARNING:gensim.models.base_any2vec:consider setting layer size to a multiple of 4 for greater performance\n"
     ]
    }
   ],
   "source": [
    "docModel = Doc2Vec(min_count=0, window=5, vector_size=150, sample=1e-4, negative=5, workers=4, epochs=5, seed=1)"
   ]
  },
  {
   "cell_type": "code",
   "execution_count": 405,
   "metadata": {
    "collapsed": true
   },
   "outputs": [],
   "source": [
    "docModel.build_vocab(labeledRow)"
   ]
  },
  {
   "cell_type": "code",
   "execution_count": 406,
   "metadata": {},
   "outputs": [
    {
     "name": "stderr",
     "output_type": "stream",
     "text": [
      "C:\\Users\\saroj\\Anaconda3\\lib\\site-packages\\ipykernel_launcher.py:1: DeprecationWarning: Call to deprecated `iter` (Attribute will be removed in 4.0.0, use self.epochs instead).\n",
      "  \"\"\"Entry point for launching an IPython kernel.\n"
     ]
    }
   ],
   "source": [
    "docModel.train(labeledRow, total_examples=docModel.corpus_count, epochs=docModel.iter)"
   ]
  },
  {
   "cell_type": "code",
   "execution_count": 407,
   "metadata": {},
   "outputs": [],
   "source": [
    "X = np.zeros((df.shape[0], 150))"
   ]
  },
  {
   "cell_type": "code",
   "execution_count": 408,
   "metadata": {},
   "outputs": [],
   "source": [
    "for i in range(df.shape[0]):\n",
    "    X[i] = docModel.docvecs['Text_'+str(i)]"
   ]
  },
  {
   "cell_type": "code",
   "execution_count": 409,
   "metadata": {},
   "outputs": [],
   "source": [
    "df['Direction'] = df['Direction'].replace('Long', 1)"
   ]
  },
  {
   "cell_type": "code",
   "execution_count": 410,
   "metadata": {
    "collapsed": true
   },
   "outputs": [],
   "source": [
    "df['Direction'] = df['Direction'].replace('Short', 0)"
   ]
  },
  {
   "cell_type": "code",
   "execution_count": 411,
   "metadata": {},
   "outputs": [],
   "source": [
    "Y = df['Direction']"
   ]
  },
  {
   "cell_type": "code",
   "execution_count": 412,
   "metadata": {},
   "outputs": [
    {
     "data": {
      "text/plain": [
       "(3485, 150)"
      ]
     },
     "execution_count": 412,
     "metadata": {},
     "output_type": "execute_result"
    }
   ],
   "source": [
    "X.shape"
   ]
  },
  {
   "cell_type": "code",
   "execution_count": 413,
   "metadata": {},
   "outputs": [
    {
     "data": {
      "text/plain": [
       "(3485,)"
      ]
     },
     "execution_count": 413,
     "metadata": {},
     "output_type": "execute_result"
    }
   ],
   "source": [
    "Y.shape"
   ]
  },
  {
   "cell_type": "code",
   "execution_count": 414,
   "metadata": {
    "collapsed": true
   },
   "outputs": [],
   "source": [
    "Xtrain = np.asarray(X[:3000])"
   ]
  },
  {
   "cell_type": "code",
   "execution_count": 415,
   "metadata": {
    "collapsed": true
   },
   "outputs": [],
   "source": [
    "Ytrain = np.asarray(Y[:3000])"
   ]
  },
  {
   "cell_type": "code",
   "execution_count": 416,
   "metadata": {
    "collapsed": true
   },
   "outputs": [],
   "source": [
    "Xtest = np.asarray(X[3000:])"
   ]
  },
  {
   "cell_type": "code",
   "execution_count": 417,
   "metadata": {
    "collapsed": true
   },
   "outputs": [],
   "source": [
    "Ytest = np.asarray(Y[3000:])"
   ]
  },
  {
   "cell_type": "code",
   "execution_count": 427,
   "metadata": {},
   "outputs": [
    {
     "data": {
      "text/plain": [
       "(3000,)"
      ]
     },
     "execution_count": 427,
     "metadata": {},
     "output_type": "execute_result"
    }
   ],
   "source": []
  },
  {
   "cell_type": "code",
   "execution_count": 422,
   "metadata": {
    "collapsed": true
   },
   "outputs": [],
   "source": [
    "#create model\n",
    "visible = Input(shape=(1, 150))\n",
    "\n",
    "hidden1 = LSTM(128, return_sequences=True)(visible)\n",
    "hidden1 = LSTM(128, return_sequences=True)(hidden1)\n",
    "\n",
    "\n",
    "hidden1  = Conv1D(filters=128, kernel_size=1, activation= 'relu')(hidden1)\n",
    "hidden1 = MaxPooling1D(pool_size= 3, padding='same')(hidden1)\n",
    "\n",
    "hidden1 = BatchNormalization()(hidden1)\n",
    "\n",
    "hidden1 = Dropout(2.0)(hidden1)\n",
    "\n",
    "hidden1  = Conv1D(filters=64, kernel_size=1, activation= 'relu')(hidden1)\n",
    "hidden1 = MaxPooling1D(pool_size= 2, padding='same')(hidden1)\n",
    "\n",
    "hidden1 = BatchNormalization()(hidden1)\n",
    "\n",
    "hidden1 = Flatten()(hidden1)\n",
    "\n",
    "hidden1 = Dropout(2.0)(hidden1)\n",
    "\n",
    "hidden1 = Dense(64, activation='relu')(hidden1)\n",
    "\n",
    "hidden1 = Dense(32, activation='relu')(hidden1)\n",
    "\n",
    "hidden1 = Dense(16, activation='relu')(hidden1)\n",
    "\n",
    "output = Dense(1, activation='sigmoid')(hidden1)\n",
    "\n",
    "model = Model(inputs=visible, outputs=output)\n"
   ]
  },
  {
   "cell_type": "code",
   "execution_count": 423,
   "metadata": {},
   "outputs": [
    {
     "name": "stdout",
     "output_type": "stream",
     "text": [
      "_________________________________________________________________\n",
      "Layer (type)                 Output Shape              Param #   \n",
      "=================================================================\n",
      "input_24 (InputLayer)        (None, 1, 150)            0         \n",
      "_________________________________________________________________\n",
      "lstm_48 (LSTM)               (None, 1, 128)            142848    \n",
      "_________________________________________________________________\n",
      "lstm_49 (LSTM)               (None, 1, 128)            131584    \n",
      "_________________________________________________________________\n",
      "conv1d_46 (Conv1D)           (None, 1, 128)            16512     \n",
      "_________________________________________________________________\n",
      "max_pooling1d_46 (MaxPooling (None, 1, 128)            0         \n",
      "_________________________________________________________________\n",
      "batch_normalization_46 (Batc (None, 1, 128)            512       \n",
      "_________________________________________________________________\n",
      "dropout_1 (Dropout)          (None, 1, 128)            0         \n",
      "_________________________________________________________________\n",
      "conv1d_47 (Conv1D)           (None, 1, 64)             8256      \n",
      "_________________________________________________________________\n",
      "max_pooling1d_47 (MaxPooling (None, 1, 64)             0         \n",
      "_________________________________________________________________\n",
      "batch_normalization_47 (Batc (None, 1, 64)             256       \n",
      "_________________________________________________________________\n",
      "flatten_23 (Flatten)         (None, 64)                0         \n",
      "_________________________________________________________________\n",
      "dropout_2 (Dropout)          (None, 64)                0         \n",
      "_________________________________________________________________\n",
      "dense_97 (Dense)             (None, 64)                4160      \n",
      "_________________________________________________________________\n",
      "dense_98 (Dense)             (None, 32)                2080      \n",
      "_________________________________________________________________\n",
      "dense_99 (Dense)             (None, 16)                528       \n",
      "_________________________________________________________________\n",
      "dense_100 (Dense)            (None, 1)                 17        \n",
      "=================================================================\n",
      "Total params: 306,753\n",
      "Trainable params: 306,369\n",
      "Non-trainable params: 384\n",
      "_________________________________________________________________\n"
     ]
    }
   ],
   "source": [
    "model.summary()"
   ]
  },
  {
   "cell_type": "code",
   "execution_count": 424,
   "metadata": {},
   "outputs": [],
   "source": [
    "# Compile model\n",
    "model.compile(loss='binary_crossentropy', optimizer='adam', metrics=['accuracy'])"
   ]
  },
  {
   "cell_type": "code",
   "execution_count": 425,
   "metadata": {},
   "outputs": [
    {
     "name": "stdout",
     "output_type": "stream",
     "text": [
      "Train on 3000 samples, validate on 485 samples\n",
      "Epoch 1/50\n",
      "3000/3000 [==============================] - 13s 4ms/step - loss: 0.2399 - acc: 0.9117 - val_loss: 0.6423 - val_acc: 0.7979\n",
      "Epoch 2/50\n",
      "3000/3000 [==============================] - 1s 244us/step - loss: 0.0862 - acc: 0.9760 - val_loss: 0.4923 - val_acc: 0.7649\n",
      "Epoch 3/50\n",
      "3000/3000 [==============================] - 1s 262us/step - loss: 0.0429 - acc: 0.9870 - val_loss: 0.3381 - val_acc: 0.8619\n",
      "Epoch 4/50\n",
      "3000/3000 [==============================] - 1s 262us/step - loss: 0.0340 - acc: 0.9903 - val_loss: 0.4094 - val_acc: 0.8124\n",
      "Epoch 5/50\n",
      "3000/3000 [==============================] - 1s 249us/step - loss: 0.0366 - acc: 0.9883 - val_loss: 0.5530 - val_acc: 0.8227\n",
      "Epoch 6/50\n",
      "3000/3000 [==============================] - 1s 267us/step - loss: 0.0277 - acc: 0.9920 - val_loss: 0.1174 - val_acc: 0.9526\n",
      "Epoch 7/50\n",
      "3000/3000 [==============================] - 1s 249us/step - loss: 0.0188 - acc: 0.9940 - val_loss: 0.5240 - val_acc: 0.8763\n",
      "Epoch 8/50\n",
      "3000/3000 [==============================] - 1s 303us/step - loss: 0.0295 - acc: 0.9903 - val_loss: 0.2772 - val_acc: 0.9134\n",
      "Epoch 9/50\n",
      "3000/3000 [==============================] - 1s 311us/step - loss: 0.0168 - acc: 0.9950 - val_loss: 0.6581 - val_acc: 0.8351\n",
      "Epoch 10/50\n",
      "3000/3000 [==============================] - 1s 290us/step - loss: 0.0156 - acc: 0.9960 - val_loss: 0.1835 - val_acc: 0.9381\n",
      "Epoch 11/50\n",
      "3000/3000 [==============================] - 1s 301us/step - loss: 0.0108 - acc: 0.9963 - val_loss: 0.2606 - val_acc: 0.9010\n",
      "Epoch 12/50\n",
      "3000/3000 [==============================] - 1s 250us/step - loss: 0.0205 - acc: 0.9927 - val_loss: 0.1968 - val_acc: 0.9299\n",
      "Epoch 13/50\n",
      "3000/3000 [==============================] - 1s 257us/step - loss: 0.0149 - acc: 0.9963 - val_loss: 0.1956 - val_acc: 0.9237\n",
      "Epoch 14/50\n",
      "3000/3000 [==============================] - 1s 249us/step - loss: 0.0099 - acc: 0.9967 - val_loss: 0.2377 - val_acc: 0.9216\n",
      "Epoch 15/50\n",
      "3000/3000 [==============================] - 1s 290us/step - loss: 0.0292 - acc: 0.9893 - val_loss: 1.2125 - val_acc: 0.6309\n",
      "Epoch 16/50\n",
      "3000/3000 [==============================] - 1s 272us/step - loss: 0.0303 - acc: 0.9897 - val_loss: 0.2820 - val_acc: 0.9134\n",
      "Epoch 17/50\n",
      "3000/3000 [==============================] - 1s 285us/step - loss: 0.0114 - acc: 0.9960 - val_loss: 0.1170 - val_acc: 0.9670\n",
      "Epoch 18/50\n",
      "3000/3000 [==============================] - 1s 262us/step - loss: 0.0126 - acc: 0.9970 - val_loss: 0.1726 - val_acc: 0.9505\n",
      "Epoch 19/50\n",
      "3000/3000 [==============================] - 1s 295us/step - loss: 0.0075 - acc: 0.9977 - val_loss: 0.1654 - val_acc: 0.9340\n",
      "Epoch 20/50\n",
      "3000/3000 [==============================] - 1s 255us/step - loss: 0.0063 - acc: 0.9987 - val_loss: 0.0838 - val_acc: 0.9711\n",
      "Epoch 21/50\n",
      "3000/3000 [==============================] - 1s 257us/step - loss: 0.0036 - acc: 0.9990 - val_loss: 0.3652 - val_acc: 0.9216\n",
      "Epoch 22/50\n",
      "3000/3000 [==============================] - 1s 249us/step - loss: 0.0063 - acc: 0.9990 - val_loss: 0.1172 - val_acc: 0.9649\n",
      "Epoch 23/50\n",
      "3000/3000 [==============================] - 1s 257us/step - loss: 0.0049 - acc: 0.9977 - val_loss: 0.2861 - val_acc: 0.8948\n",
      "Epoch 24/50\n",
      "3000/3000 [==============================] - 1s 319us/step - loss: 0.0127 - acc: 0.9963 - val_loss: 0.5078 - val_acc: 0.8804\n",
      "Epoch 25/50\n",
      "3000/3000 [==============================] - 1s 288us/step - loss: 0.0288 - acc: 0.9913 - val_loss: 0.4380 - val_acc: 0.8742\n",
      "Epoch 26/50\n",
      "3000/3000 [==============================] - 1s 275us/step - loss: 0.0090 - acc: 0.9973 - val_loss: 0.3129 - val_acc: 0.9237\n",
      "Epoch 27/50\n",
      "3000/3000 [==============================] - 1s 321us/step - loss: 0.0086 - acc: 0.9970 - val_loss: 0.0777 - val_acc: 0.9711\n",
      "Epoch 28/50\n",
      "3000/3000 [==============================] - 1s 350us/step - loss: 0.0036 - acc: 0.9990 - val_loss: 0.1441 - val_acc: 0.9608\n",
      "Epoch 29/50\n",
      "3000/3000 [==============================] - 1s 301us/step - loss: 0.0037 - acc: 0.9990 - val_loss: 0.3480 - val_acc: 0.9196\n",
      "Epoch 30/50\n",
      "3000/3000 [==============================] - 1s 329us/step - loss: 0.0100 - acc: 0.9970 - val_loss: 0.1253 - val_acc: 0.9505\n",
      "Epoch 31/50\n",
      "3000/3000 [==============================] - 1s 311us/step - loss: 0.0077 - acc: 0.9977 - val_loss: 0.1431 - val_acc: 0.9505\n",
      "Epoch 32/50\n",
      "3000/3000 [==============================] - 1s 278us/step - loss: 0.0096 - acc: 0.9953 - val_loss: 0.6260 - val_acc: 0.8948\n",
      "Epoch 33/50\n",
      "3000/3000 [==============================] - 1s 267us/step - loss: 0.0121 - acc: 0.9950 - val_loss: 0.1721 - val_acc: 0.9402\n",
      "Epoch 34/50\n",
      "3000/3000 [==============================] - 1s 275us/step - loss: 0.0073 - acc: 0.9973 - val_loss: 0.1000 - val_acc: 0.9649\n",
      "Epoch 35/50\n",
      "3000/3000 [==============================] - 1s 288us/step - loss: 0.0025 - acc: 0.9997 - val_loss: 0.2309 - val_acc: 0.9093\n",
      "Epoch 36/50\n",
      "3000/3000 [==============================] - 1s 269us/step - loss: 0.0027 - acc: 0.9987 - val_loss: 0.3232 - val_acc: 0.9340\n",
      "Epoch 37/50\n",
      "3000/3000 [==============================] - 1s 348us/step - loss: 0.0024 - acc: 0.9993 - val_loss: 0.5034 - val_acc: 0.9216\n",
      "Epoch 38/50\n",
      "3000/3000 [==============================] - 2s 550us/step - loss: 0.0113 - acc: 0.9967 - val_loss: 0.1307 - val_acc: 0.9588\n",
      "Epoch 39/50\n",
      "3000/3000 [==============================] - 1s 290us/step - loss: 0.0145 - acc: 0.9950 - val_loss: 0.1128 - val_acc: 0.9505\n",
      "Epoch 40/50\n",
      "3000/3000 [==============================] - 1s 296us/step - loss: 0.0055 - acc: 0.9987 - val_loss: 0.3372 - val_acc: 0.9237\n",
      "Epoch 41/50\n",
      "3000/3000 [==============================] - 1s 307us/step - loss: 0.0058 - acc: 0.9973 - val_loss: 0.4979 - val_acc: 0.8804\n",
      "Epoch 42/50\n",
      "3000/3000 [==============================] - 1s 350us/step - loss: 0.0112 - acc: 0.9973 - val_loss: 0.1116 - val_acc: 0.9649\n",
      "Epoch 43/50\n",
      "3000/3000 [==============================] - 1s 327us/step - loss: 0.0029 - acc: 0.9997 - val_loss: 0.6330 - val_acc: 0.9010\n",
      "Epoch 44/50\n",
      "3000/3000 [==============================] - 1s 319us/step - loss: 0.0027 - acc: 0.9993 - val_loss: 0.2760 - val_acc: 0.9361\n",
      "Epoch 45/50\n",
      "3000/3000 [==============================] - 1s 329us/step - loss: 0.0017 - acc: 0.9990 - val_loss: 0.1574 - val_acc: 0.9629\n",
      "Epoch 46/50\n",
      "3000/3000 [==============================] - 1s 316us/step - loss: 0.0032 - acc: 0.9983 - val_loss: 0.1976 - val_acc: 0.9608\n",
      "Epoch 47/50\n",
      "3000/3000 [==============================] - 1s 353us/step - loss: 0.0067 - acc: 0.9973 - val_loss: 0.2086 - val_acc: 0.9299\n",
      "Epoch 48/50\n",
      "3000/3000 [==============================] - 1s 322us/step - loss: 0.0151 - acc: 0.9957 - val_loss: 0.3170 - val_acc: 0.8969\n",
      "Epoch 49/50\n",
      "3000/3000 [==============================] - 1s 319us/step - loss: 0.0084 - acc: 0.9967 - val_loss: 0.0755 - val_acc: 0.9732\n",
      "Epoch 50/50\n",
      "3000/3000 [==============================] - 1s 316us/step - loss: 0.0043 - acc: 0.9973 - val_loss: 0.1304 - val_acc: 0.9546\n"
     ]
    },
    {
     "data": {
      "text/plain": [
       "<keras.callbacks.History at 0x193a235aa58>"
      ]
     },
     "execution_count": 425,
     "metadata": {},
     "output_type": "execute_result"
    }
   ],
   "source": [
    "#Fitting model\n",
    "model.fit(Xtrain.reshape(-1, 1,150 ), Ytrain, epochs=50, batch_size=64, validation_data=(Xtest.reshape(-1, 1,150 ), Ytest))"
   ]
  },
  {
   "cell_type": "code",
   "execution_count": null,
   "metadata": {},
   "outputs": [],
   "source": []
  },
  {
   "cell_type": "code",
   "execution_count": null,
   "metadata": {
    "collapsed": true
   },
   "outputs": [],
   "source": []
  }
 ],
 "metadata": {
  "kernelspec": {
   "display_name": "Python 3",
   "language": "python",
   "name": "python3"
  },
  "language_info": {
   "codemirror_mode": {
    "name": "ipython",
    "version": 3
   },
   "file_extension": ".py",
   "mimetype": "text/x-python",
   "name": "python",
   "nbconvert_exporter": "python",
   "pygments_lexer": "ipython3",
   "version": "3.6.3"
  }
 },
 "nbformat": 4,
 "nbformat_minor": 2
}
