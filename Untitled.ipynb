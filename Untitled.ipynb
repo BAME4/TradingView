{
 "cells": [
  {
   "cell_type": "code",
   "execution_count": 181,
   "metadata": {},
   "outputs": [],
   "source": [
    "import pandas as pd\n",
    "import numpy as np\n",
    "import matplotlib.pyplot as plt\n",
    "\n",
    "from keras.models import Sequential\n",
    "from keras.models import Model\n",
    "from keras.models import model_from_json\n",
    "\n",
    "from keras.layers import Dense,LSTM, SpatialDropout1D,Flatten, LSTM, Conv1D, MaxPooling1D, Dropout, Activation, Input \n",
    "from keras.layers.normalization import BatchNormalization\n",
    "\n",
    "from sklearn.ensemble import ExtraTreesClassifier\n",
    "\n",
    "from gensim.models.doc2vec import Doc2Vec, TaggedDocument\n",
    "from gensim import utils\n",
    "\n",
    "from nltk.tokenize import word_tokenize\n",
    "\n",
    "\n",
    "\n",
    "%matplotlib inline"
   ]
  },
  {
   "cell_type": "code",
   "execution_count": 182,
   "metadata": {
    "collapsed": true
   },
   "outputs": [],
   "source": [
    "def extract(coinname):\n",
    "    df = pd.read_csv('{}.csv'.format(coinname))\n",
    "    df = df.replace(np.inf, np.nan)\n",
    "    \n",
    "    return df"
   ]
  },
  {
   "cell_type": "code",
   "execution_count": null,
   "metadata": {},
   "outputs": [],
   "source": []
  },
  {
   "cell_type": "code",
   "execution_count": 183,
   "metadata": {
    "collapsed": true
   },
   "outputs": [],
   "source": [
    "BTC = extract('BTCUSD')"
   ]
  },
  {
   "cell_type": "code",
   "execution_count": 184,
   "metadata": {
    "collapsed": true
   },
   "outputs": [],
   "source": [
    "BTC['Dec'] = BTC['Topic'] + BTC['Text']"
   ]
  },
  {
   "cell_type": "code",
   "execution_count": 185,
   "metadata": {
    "collapsed": true
   },
   "outputs": [],
   "source": [
    "ETH =extract('ETHUSD')"
   ]
  },
  {
   "cell_type": "code",
   "execution_count": 186,
   "metadata": {
    "collapsed": true
   },
   "outputs": [],
   "source": [
    "ETH['Dec'] = ETH['Topic'] + ETH['Text']"
   ]
  },
  {
   "cell_type": "code",
   "execution_count": 187,
   "metadata": {
    "collapsed": true
   },
   "outputs": [],
   "source": [
    "LTC =extract('LTCUSD')"
   ]
  },
  {
   "cell_type": "code",
   "execution_count": 188,
   "metadata": {
    "collapsed": true
   },
   "outputs": [],
   "source": [
    "LTC['Dec'] = LTC['Topic'] + LTC['Text']"
   ]
  },
  {
   "cell_type": "code",
   "execution_count": 189,
   "metadata": {
    "collapsed": true
   },
   "outputs": [],
   "source": [
    "XRP =extract('XRPUSD')"
   ]
  },
  {
   "cell_type": "code",
   "execution_count": 190,
   "metadata": {
    "collapsed": true
   },
   "outputs": [],
   "source": [
    "XRP['Dec'] = XRP['Topic'] + XRP['Text']"
   ]
  },
  {
   "cell_type": "code",
   "execution_count": 191,
   "metadata": {
    "collapsed": true
   },
   "outputs": [],
   "source": [
    "DASH =extract('DASHUSD')"
   ]
  },
  {
   "cell_type": "code",
   "execution_count": 192,
   "metadata": {
    "collapsed": true
   },
   "outputs": [],
   "source": [
    "DASH['Dec'] = DASH['Topic'] + DASH['Text']"
   ]
  },
  {
   "cell_type": "code",
   "execution_count": 193,
   "metadata": {
    "collapsed": true
   },
   "outputs": [],
   "source": [
    "DOGE =extract('DOGEUSD')"
   ]
  },
  {
   "cell_type": "code",
   "execution_count": 194,
   "metadata": {
    "collapsed": true
   },
   "outputs": [],
   "source": [
    "DOGE['Dec'] = DOGE['Topic'] + DOGE['Text']"
   ]
  },
  {
   "cell_type": "code",
   "execution_count": 195,
   "metadata": {
    "collapsed": true
   },
   "outputs": [],
   "source": [
    "STR =extract('STRUSD')"
   ]
  },
  {
   "cell_type": "code",
   "execution_count": 196,
   "metadata": {
    "collapsed": true
   },
   "outputs": [],
   "source": [
    "STR['Dec'] = STR['Topic'] + STR['Text']"
   ]
  },
  {
   "cell_type": "code",
   "execution_count": 197,
   "metadata": {
    "collapsed": true
   },
   "outputs": [],
   "source": [
    "XMR =extract('XMRUSD')"
   ]
  },
  {
   "cell_type": "code",
   "execution_count": 198,
   "metadata": {
    "collapsed": true
   },
   "outputs": [],
   "source": [
    "XMR['Dec'] = XMR['Topic'] + XMR['Text']"
   ]
  },
  {
   "cell_type": "code",
   "execution_count": 199,
   "metadata": {
    "collapsed": true
   },
   "outputs": [],
   "source": [
    "df = pd.DataFrame(columns=['Time Stamp',  'Dec',  'Direction'])\n",
    "\n",
    "b = BTC[(BTC['Direction'] != 'Long') & (BTC['Direction'] != 'Short')][['Dec', 'Direction', 'Time Stamp']]\n",
    "\n",
    "e = ETH[(ETH['Direction'] != 'Long') & (ETH['Direction'] != 'Short')][['Dec', 'Direction', 'Time Stamp']]\n",
    "\n",
    "l = LTC[(LTC['Direction'] != 'Long') & (LTC['Direction'] != 'Short')][['Dec', 'Direction', 'Time Stamp']]\n",
    "\n",
    "d = DASH[(DASH['Direction'] != 'Long') & (DASH['Direction'] != 'Short')][['Dec', 'Direction', 'Time Stamp']]\n",
    "\n",
    "x = XRP[(XRP['Direction'] != 'Long') & (XRP['Direction'] != 'Short')][['Dec', 'Direction', 'Time Stamp']]\n",
    "\n",
    "do = DOGE[(DOGE['Direction'] != 'Long') & (DOGE['Direction'] != 'Short')][['Dec', 'Direction', 'Time Stamp']]\n",
    "\n",
    "s = STR[(STR['Direction'] != 'Long') & (STR['Direction'] != 'Short')][['Dec', 'Direction', 'Time Stamp']]\n",
    "\n",
    "xm = XMR[(XMR['Direction'] != 'Long') & (XMR['Direction'] != 'Short')][['Dec', 'Direction', 'Time Stamp']]\n",
    "\n",
    "\n",
    "\n",
    "\n",
    "df = pd.concat([df, b, e, l, d, x, do, s, xm ])"
   ]
  },
  {
   "cell_type": "code",
   "execution_count": 200,
   "metadata": {},
   "outputs": [
    {
     "data": {
      "text/html": [
       "<div>\n",
       "<style>\n",
       "    .dataframe thead tr:only-child th {\n",
       "        text-align: right;\n",
       "    }\n",
       "\n",
       "    .dataframe thead th {\n",
       "        text-align: left;\n",
       "    }\n",
       "\n",
       "    .dataframe tbody tr th {\n",
       "        vertical-align: top;\n",
       "    }\n",
       "</style>\n",
       "<table border=\"1\" class=\"dataframe\">\n",
       "  <thead>\n",
       "    <tr style=\"text-align: right;\">\n",
       "      <th></th>\n",
       "      <th>Dec</th>\n",
       "      <th>Direction</th>\n",
       "      <th>Time Stamp</th>\n",
       "    </tr>\n",
       "  </thead>\n",
       "  <tbody>\n",
       "    <tr>\n",
       "      <th>0</th>\n",
       "      <td>Another Bitcoin fractal, trying to make sense ...</td>\n",
       "      <td>NaN</td>\n",
       "      <td>1528329347</td>\n",
       "    </tr>\n",
       "    <tr>\n",
       "      <th>1</th>\n",
       "      <td>2618 (Double top &amp; 0.618 pull-back) - do not m...</td>\n",
       "      <td>NaN</td>\n",
       "      <td>1528359434</td>\n",
       "    </tr>\n",
       "    <tr>\n",
       "      <th>2</th>\n",
       "      <td>BTC Potential 4 Hour Bull Flag\\r\\n BTC -0.83% ...</td>\n",
       "      <td>NaN</td>\n",
       "      <td>1528370137</td>\n",
       "    </tr>\n",
       "    <tr>\n",
       "      <th>3</th>\n",
       "      <td>13 Reasons Why of Bitcoin\\r\\n\\r\\n\\r\\n\\r\\n\\r\\nJ...</td>\n",
       "      <td>NaN</td>\n",
       "      <td>1528349435</td>\n",
       "    </tr>\n",
       "    <tr>\n",
       "      <th>4</th>\n",
       "      <td>Bitcoin (BTC): The Wave Setup\\r\\n\\r\\n\\r\\n\\r\\n\\...</td>\n",
       "      <td>NaN</td>\n",
       "      <td>1528445997</td>\n",
       "    </tr>\n",
       "    <tr>\n",
       "      <th>9</th>\n",
       "      <td>Bitcoin - last fractal followed to the tee! Wi...</td>\n",
       "      <td>NaN</td>\n",
       "      <td>1528365153</td>\n",
       "    </tr>\n",
       "    <tr>\n",
       "      <th>13</th>\n",
       "      <td>The Next Price Action Of Bitcoin - Check My Ch...</td>\n",
       "      <td>NaN</td>\n",
       "      <td>1528396156</td>\n",
       "    </tr>\n",
       "    <tr>\n",
       "      <th>15</th>\n",
       "      <td>Bitcoin Bulls &amp; Bear case Scenario\\r\\n Bitcoin...</td>\n",
       "      <td>NaN</td>\n",
       "      <td>1528382677</td>\n",
       "    </tr>\n",
       "    <tr>\n",
       "      <th>16</th>\n",
       "      <td>Cross Your Fingers For This Pattern To Not Be ...</td>\n",
       "      <td>NaN</td>\n",
       "      <td>1528403043</td>\n",
       "    </tr>\n",
       "    <tr>\n",
       "      <th>17</th>\n",
       "      <td>BTC \\r\\n BTC -0.84%  2018-06-07\\r\\n</td>\n",
       "      <td>NaN</td>\n",
       "      <td>1528389965</td>\n",
       "    </tr>\n",
       "    <tr>\n",
       "      <th>18</th>\n",
       "      <td>Another Bitcoin fractal, trying to make sense ...</td>\n",
       "      <td>NaN</td>\n",
       "      <td>1528329347</td>\n",
       "    </tr>\n",
       "    <tr>\n",
       "      <th>19</th>\n",
       "      <td>2618 (Double top &amp; 0.618 pull-back) - do not m...</td>\n",
       "      <td>NaN</td>\n",
       "      <td>1528359434</td>\n",
       "    </tr>\n",
       "    <tr>\n",
       "      <th>20</th>\n",
       "      <td>BTC Potential 4 Hour Bull Flag\\r\\n BTC -0.84% ...</td>\n",
       "      <td>NaN</td>\n",
       "      <td>1528370137</td>\n",
       "    </tr>\n",
       "    <tr>\n",
       "      <th>21</th>\n",
       "      <td>13 Reasons Why of Bitcoin\\r\\n\\r\\n\\r\\n\\r\\n\\r\\nJ...</td>\n",
       "      <td>NaN</td>\n",
       "      <td>1528349435</td>\n",
       "    </tr>\n",
       "    <tr>\n",
       "      <th>22</th>\n",
       "      <td>Bitcoin (BTC): The Wave Setup\\r\\n\\r\\n\\r\\n\\r\\n\\...</td>\n",
       "      <td>NaN</td>\n",
       "      <td>1528445997</td>\n",
       "    </tr>\n",
       "    <tr>\n",
       "      <th>27</th>\n",
       "      <td>Bitcoin - last fractal followed to the tee! Wi...</td>\n",
       "      <td>NaN</td>\n",
       "      <td>1528365153</td>\n",
       "    </tr>\n",
       "    <tr>\n",
       "      <th>31</th>\n",
       "      <td>The Next Price Action Of Bitcoin - Check My Ch...</td>\n",
       "      <td>NaN</td>\n",
       "      <td>1528396156</td>\n",
       "    </tr>\n",
       "    <tr>\n",
       "      <th>33</th>\n",
       "      <td>Bitcoin Bulls &amp; Bear case Scenario\\r\\n Bitcoin...</td>\n",
       "      <td>NaN</td>\n",
       "      <td>1528382677</td>\n",
       "    </tr>\n",
       "    <tr>\n",
       "      <th>34</th>\n",
       "      <td>Cross Your Fingers For This Pattern To Not Be ...</td>\n",
       "      <td>NaN</td>\n",
       "      <td>1528403043</td>\n",
       "    </tr>\n",
       "    <tr>\n",
       "      <th>35</th>\n",
       "      <td>BTC \\r\\n BTC -0.89%  2018-06-07\\r\\n</td>\n",
       "      <td>NaN</td>\n",
       "      <td>1528389965</td>\n",
       "    </tr>\n",
       "    <tr>\n",
       "      <th>36</th>\n",
       "      <td>Another Bitcoin fractal, trying to make sense ...</td>\n",
       "      <td>NaN</td>\n",
       "      <td>1528329347</td>\n",
       "    </tr>\n",
       "    <tr>\n",
       "      <th>37</th>\n",
       "      <td>2618 (Double top &amp; 0.618 pull-back) - do not m...</td>\n",
       "      <td>NaN</td>\n",
       "      <td>1528359434</td>\n",
       "    </tr>\n",
       "    <tr>\n",
       "      <th>38</th>\n",
       "      <td>BTC Potential 4 Hour Bull Flag\\r\\n BTC -0.88% ...</td>\n",
       "      <td>NaN</td>\n",
       "      <td>1528370137</td>\n",
       "    </tr>\n",
       "    <tr>\n",
       "      <th>39</th>\n",
       "      <td>13 Reasons Why of Bitcoin\\r\\n\\r\\n\\r\\n\\r\\n\\r\\nJ...</td>\n",
       "      <td>NaN</td>\n",
       "      <td>1528349435</td>\n",
       "    </tr>\n",
       "    <tr>\n",
       "      <th>40</th>\n",
       "      <td>Bitcoin (BTC): The Wave Setup\\r\\n\\r\\n\\r\\n\\r\\n\\...</td>\n",
       "      <td>NaN</td>\n",
       "      <td>1528445997</td>\n",
       "    </tr>\n",
       "    <tr>\n",
       "      <th>45</th>\n",
       "      <td>Bitcoin - last fractal followed to the tee! Wi...</td>\n",
       "      <td>NaN</td>\n",
       "      <td>1528365153</td>\n",
       "    </tr>\n",
       "    <tr>\n",
       "      <th>49</th>\n",
       "      <td>The Next Price Action Of Bitcoin - Check My Ch...</td>\n",
       "      <td>NaN</td>\n",
       "      <td>1528396156</td>\n",
       "    </tr>\n",
       "    <tr>\n",
       "      <th>51</th>\n",
       "      <td>Bitcoin Bulls &amp; Bear case Scenario\\r\\n Bitcoin...</td>\n",
       "      <td>NaN</td>\n",
       "      <td>1528382677</td>\n",
       "    </tr>\n",
       "    <tr>\n",
       "      <th>52</th>\n",
       "      <td>Cross Your Fingers For This Pattern To Not Be ...</td>\n",
       "      <td>NaN</td>\n",
       "      <td>1528403043</td>\n",
       "    </tr>\n",
       "    <tr>\n",
       "      <th>53</th>\n",
       "      <td>BTC \\r\\n BTC -0.89%  2018-06-07\\r\\n</td>\n",
       "      <td>NaN</td>\n",
       "      <td>1528389965</td>\n",
       "    </tr>\n",
       "    <tr>\n",
       "      <th>...</th>\n",
       "      <td>...</td>\n",
       "      <td>...</td>\n",
       "      <td>...</td>\n",
       "    </tr>\n",
       "    <tr>\n",
       "      <th>578</th>\n",
       "      <td>XMR -  Baby steps - 177 is a move in  the righ...</td>\n",
       "      <td>NaN</td>\n",
       "      <td>1528334502</td>\n",
       "    </tr>\n",
       "    <tr>\n",
       "      <th>592</th>\n",
       "      <td>Monero's dwindling supply. $10k in 2019 scenar...</td>\n",
       "      <td>NaN</td>\n",
       "      <td>1507228483</td>\n",
       "    </tr>\n",
       "    <tr>\n",
       "      <th>596</th>\n",
       "      <td>XMR -  Baby steps - 177 is a move in  the righ...</td>\n",
       "      <td>NaN</td>\n",
       "      <td>1528334502</td>\n",
       "    </tr>\n",
       "    <tr>\n",
       "      <th>610</th>\n",
       "      <td>Monero's dwindling supply. $10k in 2019 scenar...</td>\n",
       "      <td>NaN</td>\n",
       "      <td>1507228483</td>\n",
       "    </tr>\n",
       "    <tr>\n",
       "      <th>614</th>\n",
       "      <td>XMR -  Baby steps - 177 is a move in  the righ...</td>\n",
       "      <td>NaN</td>\n",
       "      <td>1528334502</td>\n",
       "    </tr>\n",
       "    <tr>\n",
       "      <th>628</th>\n",
       "      <td>Monero's dwindling supply. $10k in 2019 scenar...</td>\n",
       "      <td>NaN</td>\n",
       "      <td>1507228483</td>\n",
       "    </tr>\n",
       "    <tr>\n",
       "      <th>632</th>\n",
       "      <td>XMR -  Baby steps - 177 is a move in  the righ...</td>\n",
       "      <td>NaN</td>\n",
       "      <td>1528334502</td>\n",
       "    </tr>\n",
       "    <tr>\n",
       "      <th>646</th>\n",
       "      <td>Monero's dwindling supply. $10k in 2019 scenar...</td>\n",
       "      <td>NaN</td>\n",
       "      <td>1507228483</td>\n",
       "    </tr>\n",
       "    <tr>\n",
       "      <th>650</th>\n",
       "      <td>XMR -  Baby steps - 177 is a move in  the righ...</td>\n",
       "      <td>NaN</td>\n",
       "      <td>1528334502</td>\n",
       "    </tr>\n",
       "    <tr>\n",
       "      <th>664</th>\n",
       "      <td>Monero's dwindling supply. $10k in 2019 scenar...</td>\n",
       "      <td>NaN</td>\n",
       "      <td>1507228483</td>\n",
       "    </tr>\n",
       "    <tr>\n",
       "      <th>668</th>\n",
       "      <td>XMR -  Baby steps - 177 is a move in  the righ...</td>\n",
       "      <td>NaN</td>\n",
       "      <td>1528334502</td>\n",
       "    </tr>\n",
       "    <tr>\n",
       "      <th>682</th>\n",
       "      <td>Monero's dwindling supply. $10k in 2019 scenar...</td>\n",
       "      <td>NaN</td>\n",
       "      <td>1507228483</td>\n",
       "    </tr>\n",
       "    <tr>\n",
       "      <th>686</th>\n",
       "      <td>XMR -  Baby steps - 177 is a move in  the righ...</td>\n",
       "      <td>NaN</td>\n",
       "      <td>1528334502</td>\n",
       "    </tr>\n",
       "    <tr>\n",
       "      <th>700</th>\n",
       "      <td>Monero's dwindling supply. $10k in 2019 scenar...</td>\n",
       "      <td>NaN</td>\n",
       "      <td>1507228483</td>\n",
       "    </tr>\n",
       "    <tr>\n",
       "      <th>704</th>\n",
       "      <td>XMR -  Baby steps - 177 is a move in  the righ...</td>\n",
       "      <td>NaN</td>\n",
       "      <td>1528334502</td>\n",
       "    </tr>\n",
       "    <tr>\n",
       "      <th>718</th>\n",
       "      <td>Monero's dwindling supply. $10k in 2019 scenar...</td>\n",
       "      <td>NaN</td>\n",
       "      <td>1507228483</td>\n",
       "    </tr>\n",
       "    <tr>\n",
       "      <th>722</th>\n",
       "      <td>XMR -  Baby steps - 177 is a move in  the righ...</td>\n",
       "      <td>NaN</td>\n",
       "      <td>1528334502</td>\n",
       "    </tr>\n",
       "    <tr>\n",
       "      <th>736</th>\n",
       "      <td>Monero's dwindling supply. $10k in 2019 scenar...</td>\n",
       "      <td>NaN</td>\n",
       "      <td>1507228483</td>\n",
       "    </tr>\n",
       "    <tr>\n",
       "      <th>740</th>\n",
       "      <td>XMR -  Baby steps - 177 is a move in  the righ...</td>\n",
       "      <td>NaN</td>\n",
       "      <td>1528334502</td>\n",
       "    </tr>\n",
       "    <tr>\n",
       "      <th>754</th>\n",
       "      <td>Monero's dwindling supply. $10k in 2019 scenar...</td>\n",
       "      <td>NaN</td>\n",
       "      <td>1507228483</td>\n",
       "    </tr>\n",
       "    <tr>\n",
       "      <th>758</th>\n",
       "      <td>XMR -  Baby steps - 177 is a move in  the righ...</td>\n",
       "      <td>NaN</td>\n",
       "      <td>1528334502</td>\n",
       "    </tr>\n",
       "    <tr>\n",
       "      <th>772</th>\n",
       "      <td>Monero's dwindling supply. $10k in 2019 scenar...</td>\n",
       "      <td>NaN</td>\n",
       "      <td>1507228483</td>\n",
       "    </tr>\n",
       "    <tr>\n",
       "      <th>776</th>\n",
       "      <td>XMR -  Baby steps - 177 is a move in  the righ...</td>\n",
       "      <td>NaN</td>\n",
       "      <td>1528334502</td>\n",
       "    </tr>\n",
       "    <tr>\n",
       "      <th>790</th>\n",
       "      <td>Monero's dwindling supply. $10k in 2019 scenar...</td>\n",
       "      <td>NaN</td>\n",
       "      <td>1507228483</td>\n",
       "    </tr>\n",
       "    <tr>\n",
       "      <th>794</th>\n",
       "      <td>XMR -  Baby steps - 177 is a move in  the righ...</td>\n",
       "      <td>NaN</td>\n",
       "      <td>1528334502</td>\n",
       "    </tr>\n",
       "    <tr>\n",
       "      <th>808</th>\n",
       "      <td>Monero's dwindling supply. $10k in 2019 scenar...</td>\n",
       "      <td>NaN</td>\n",
       "      <td>1507228483</td>\n",
       "    </tr>\n",
       "    <tr>\n",
       "      <th>812</th>\n",
       "      <td>XMR -  Baby steps - 177 is a move in  the righ...</td>\n",
       "      <td>NaN</td>\n",
       "      <td>1528334502</td>\n",
       "    </tr>\n",
       "    <tr>\n",
       "      <th>826</th>\n",
       "      <td>Monero's dwindling supply. $10k in 2019 scenar...</td>\n",
       "      <td>NaN</td>\n",
       "      <td>1507228483</td>\n",
       "    </tr>\n",
       "    <tr>\n",
       "      <th>830</th>\n",
       "      <td>XMR -  Baby steps - 177 is a move in  the righ...</td>\n",
       "      <td>NaN</td>\n",
       "      <td>1528334502</td>\n",
       "    </tr>\n",
       "    <tr>\n",
       "      <th>844</th>\n",
       "      <td>Monero's dwindling supply. $10k in 2019 scenar...</td>\n",
       "      <td>NaN</td>\n",
       "      <td>1507228483</td>\n",
       "    </tr>\n",
       "  </tbody>\n",
       "</table>\n",
       "<p>2053 rows × 3 columns</p>\n",
       "</div>"
      ],
      "text/plain": [
       "                                                   Dec Direction  Time Stamp\n",
       "0    Another Bitcoin fractal, trying to make sense ...       NaN  1528329347\n",
       "1    2618 (Double top & 0.618 pull-back) - do not m...       NaN  1528359434\n",
       "2    BTC Potential 4 Hour Bull Flag\\r\\n BTC -0.83% ...       NaN  1528370137\n",
       "3    13 Reasons Why of Bitcoin\\r\\n\\r\\n\\r\\n\\r\\n\\r\\nJ...       NaN  1528349435\n",
       "4    Bitcoin (BTC): The Wave Setup\\r\\n\\r\\n\\r\\n\\r\\n\\...       NaN  1528445997\n",
       "9    Bitcoin - last fractal followed to the tee! Wi...       NaN  1528365153\n",
       "13   The Next Price Action Of Bitcoin - Check My Ch...       NaN  1528396156\n",
       "15   Bitcoin Bulls & Bear case Scenario\\r\\n Bitcoin...       NaN  1528382677\n",
       "16   Cross Your Fingers For This Pattern To Not Be ...       NaN  1528403043\n",
       "17                 BTC \\r\\n BTC -0.84%  2018-06-07\\r\\n       NaN  1528389965\n",
       "18   Another Bitcoin fractal, trying to make sense ...       NaN  1528329347\n",
       "19   2618 (Double top & 0.618 pull-back) - do not m...       NaN  1528359434\n",
       "20   BTC Potential 4 Hour Bull Flag\\r\\n BTC -0.84% ...       NaN  1528370137\n",
       "21   13 Reasons Why of Bitcoin\\r\\n\\r\\n\\r\\n\\r\\n\\r\\nJ...       NaN  1528349435\n",
       "22   Bitcoin (BTC): The Wave Setup\\r\\n\\r\\n\\r\\n\\r\\n\\...       NaN  1528445997\n",
       "27   Bitcoin - last fractal followed to the tee! Wi...       NaN  1528365153\n",
       "31   The Next Price Action Of Bitcoin - Check My Ch...       NaN  1528396156\n",
       "33   Bitcoin Bulls & Bear case Scenario\\r\\n Bitcoin...       NaN  1528382677\n",
       "34   Cross Your Fingers For This Pattern To Not Be ...       NaN  1528403043\n",
       "35                 BTC \\r\\n BTC -0.89%  2018-06-07\\r\\n       NaN  1528389965\n",
       "36   Another Bitcoin fractal, trying to make sense ...       NaN  1528329347\n",
       "37   2618 (Double top & 0.618 pull-back) - do not m...       NaN  1528359434\n",
       "38   BTC Potential 4 Hour Bull Flag\\r\\n BTC -0.88% ...       NaN  1528370137\n",
       "39   13 Reasons Why of Bitcoin\\r\\n\\r\\n\\r\\n\\r\\n\\r\\nJ...       NaN  1528349435\n",
       "40   Bitcoin (BTC): The Wave Setup\\r\\n\\r\\n\\r\\n\\r\\n\\...       NaN  1528445997\n",
       "45   Bitcoin - last fractal followed to the tee! Wi...       NaN  1528365153\n",
       "49   The Next Price Action Of Bitcoin - Check My Ch...       NaN  1528396156\n",
       "51   Bitcoin Bulls & Bear case Scenario\\r\\n Bitcoin...       NaN  1528382677\n",
       "52   Cross Your Fingers For This Pattern To Not Be ...       NaN  1528403043\n",
       "53                 BTC \\r\\n BTC -0.89%  2018-06-07\\r\\n       NaN  1528389965\n",
       "..                                                 ...       ...         ...\n",
       "578  XMR -  Baby steps - 177 is a move in  the righ...       NaN  1528334502\n",
       "592  Monero's dwindling supply. $10k in 2019 scenar...       NaN  1507228483\n",
       "596  XMR -  Baby steps - 177 is a move in  the righ...       NaN  1528334502\n",
       "610  Monero's dwindling supply. $10k in 2019 scenar...       NaN  1507228483\n",
       "614  XMR -  Baby steps - 177 is a move in  the righ...       NaN  1528334502\n",
       "628  Monero's dwindling supply. $10k in 2019 scenar...       NaN  1507228483\n",
       "632  XMR -  Baby steps - 177 is a move in  the righ...       NaN  1528334502\n",
       "646  Monero's dwindling supply. $10k in 2019 scenar...       NaN  1507228483\n",
       "650  XMR -  Baby steps - 177 is a move in  the righ...       NaN  1528334502\n",
       "664  Monero's dwindling supply. $10k in 2019 scenar...       NaN  1507228483\n",
       "668  XMR -  Baby steps - 177 is a move in  the righ...       NaN  1528334502\n",
       "682  Monero's dwindling supply. $10k in 2019 scenar...       NaN  1507228483\n",
       "686  XMR -  Baby steps - 177 is a move in  the righ...       NaN  1528334502\n",
       "700  Monero's dwindling supply. $10k in 2019 scenar...       NaN  1507228483\n",
       "704  XMR -  Baby steps - 177 is a move in  the righ...       NaN  1528334502\n",
       "718  Monero's dwindling supply. $10k in 2019 scenar...       NaN  1507228483\n",
       "722  XMR -  Baby steps - 177 is a move in  the righ...       NaN  1528334502\n",
       "736  Monero's dwindling supply. $10k in 2019 scenar...       NaN  1507228483\n",
       "740  XMR -  Baby steps - 177 is a move in  the righ...       NaN  1528334502\n",
       "754  Monero's dwindling supply. $10k in 2019 scenar...       NaN  1507228483\n",
       "758  XMR -  Baby steps - 177 is a move in  the righ...       NaN  1528334502\n",
       "772  Monero's dwindling supply. $10k in 2019 scenar...       NaN  1507228483\n",
       "776  XMR -  Baby steps - 177 is a move in  the righ...       NaN  1528334502\n",
       "790  Monero's dwindling supply. $10k in 2019 scenar...       NaN  1507228483\n",
       "794  XMR -  Baby steps - 177 is a move in  the righ...       NaN  1528334502\n",
       "808  Monero's dwindling supply. $10k in 2019 scenar...       NaN  1507228483\n",
       "812  XMR -  Baby steps - 177 is a move in  the righ...       NaN  1528334502\n",
       "826  Monero's dwindling supply. $10k in 2019 scenar...       NaN  1507228483\n",
       "830  XMR -  Baby steps - 177 is a move in  the righ...       NaN  1528334502\n",
       "844  Monero's dwindling supply. $10k in 2019 scenar...       NaN  1507228483\n",
       "\n",
       "[2053 rows x 3 columns]"
      ]
     },
     "execution_count": 200,
     "metadata": {},
     "output_type": "execute_result"
    }
   ],
   "source": [
    "df"
   ]
  },
  {
   "cell_type": "code",
   "execution_count": 201,
   "metadata": {
    "collapsed": true
   },
   "outputs": [],
   "source": [
    "df = df.reset_index(drop=True)"
   ]
  },
  {
   "cell_type": "code",
   "execution_count": null,
   "metadata": {},
   "outputs": [],
   "source": []
  },
  {
   "cell_type": "code",
   "execution_count": 202,
   "metadata": {
    "collapsed": true
   },
   "outputs": [],
   "source": [
    "labeledRow = []\n",
    "\n",
    "for idx, row in df['Dec'].iteritems():\n",
    "    labeledRow.append(TaggedDocument(utils.to_unicode(row).split(), ['Text' + '_%s' % str(idx)]))"
   ]
  },
  {
   "cell_type": "code",
   "execution_count": 203,
   "metadata": {
    "collapsed": true
   },
   "outputs": [],
   "source": [
    "docModel = Doc2Vec(min_count=0, window=5, vector_size=150, sample=1e-4, negative=5, workers=4, epochs=5, seed=1)"
   ]
  },
  {
   "cell_type": "code",
   "execution_count": 204,
   "metadata": {
    "collapsed": true
   },
   "outputs": [],
   "source": [
    "docModel.build_vocab(labeledRow)"
   ]
  },
  {
   "cell_type": "code",
   "execution_count": 205,
   "metadata": {},
   "outputs": [
    {
     "name": "stderr",
     "output_type": "stream",
     "text": [
      "C:\\Users\\saroj\\Anaconda3\\lib\\site-packages\\ipykernel_launcher.py:1: DeprecationWarning: Call to deprecated `iter` (Attribute will be removed in 4.0.0, use self.epochs instead).\n",
      "  \"\"\"Entry point for launching an IPython kernel.\n"
     ]
    }
   ],
   "source": [
    "docModel.train(labeledRow, total_examples=docModel.corpus_count, epochs=docModel.iter)"
   ]
  },
  {
   "cell_type": "code",
   "execution_count": 206,
   "metadata": {
    "collapsed": true
   },
   "outputs": [],
   "source": [
    "X = np.zeros((df.shape[0], 150))"
   ]
  },
  {
   "cell_type": "code",
   "execution_count": 207,
   "metadata": {
    "collapsed": true
   },
   "outputs": [],
   "source": [
    "for i in range(df.shape[0]):\n",
    "    X[i] = docModel.docvecs['Text_'+str(i)]"
   ]
  },
  {
   "cell_type": "code",
   "execution_count": 208,
   "metadata": {},
   "outputs": [
    {
     "data": {
      "text/plain": [
       "(2053, 150)"
      ]
     },
     "execution_count": 208,
     "metadata": {},
     "output_type": "execute_result"
    }
   ],
   "source": [
    "X.shape"
   ]
  },
  {
   "cell_type": "code",
   "execution_count": 209,
   "metadata": {},
   "outputs": [],
   "source": [
    "# load json and create model\n",
    "json_file = open('model.json', 'r')\n",
    "loaded_model_json = json_file.read()\n",
    "json_file.close()\n",
    "loaded_model = model_from_json(loaded_model_json)"
   ]
  },
  {
   "cell_type": "code",
   "execution_count": 210,
   "metadata": {},
   "outputs": [
    {
     "name": "stdout",
     "output_type": "stream",
     "text": [
      "Loaded model from disk\n"
     ]
    }
   ],
   "source": [
    "# load weights into new model\n",
    "loaded_model.load_weights(\"model.h5\")\n",
    "print(\"Loaded model from disk\")"
   ]
  },
  {
   "cell_type": "code",
   "execution_count": 211,
   "metadata": {},
   "outputs": [
    {
     "name": "stdout",
     "output_type": "stream",
     "text": [
      "_________________________________________________________________\n",
      "Layer (type)                 Output Shape              Param #   \n",
      "=================================================================\n",
      "input_1 (InputLayer)         (None, 1, 150)            0         \n",
      "_________________________________________________________________\n",
      "lstm_1 (LSTM)                (None, 1, 128)            142848    \n",
      "_________________________________________________________________\n",
      "lstm_2 (LSTM)                (None, 1, 128)            131584    \n",
      "_________________________________________________________________\n",
      "conv1d_1 (Conv1D)            (None, 1, 128)            16512     \n",
      "_________________________________________________________________\n",
      "max_pooling1d_1 (MaxPooling1 (None, 1, 128)            0         \n",
      "_________________________________________________________________\n",
      "batch_normalization_1 (Batch (None, 1, 128)            512       \n",
      "_________________________________________________________________\n",
      "dropout_1 (Dropout)          (None, 1, 128)            0         \n",
      "_________________________________________________________________\n",
      "conv1d_2 (Conv1D)            (None, 1, 64)             8256      \n",
      "_________________________________________________________________\n",
      "max_pooling1d_2 (MaxPooling1 (None, 1, 64)             0         \n",
      "_________________________________________________________________\n",
      "batch_normalization_2 (Batch (None, 1, 64)             256       \n",
      "_________________________________________________________________\n",
      "flatten_1 (Flatten)          (None, 64)                0         \n",
      "_________________________________________________________________\n",
      "dropout_2 (Dropout)          (None, 64)                0         \n",
      "_________________________________________________________________\n",
      "dense_1 (Dense)              (None, 64)                4160      \n",
      "_________________________________________________________________\n",
      "dense_2 (Dense)              (None, 32)                2080      \n",
      "_________________________________________________________________\n",
      "dense_3 (Dense)              (None, 16)                528       \n",
      "_________________________________________________________________\n",
      "dense_4 (Dense)              (None, 1)                 17        \n",
      "=================================================================\n",
      "Total params: 306,753\n",
      "Trainable params: 306,369\n",
      "Non-trainable params: 384\n",
      "_________________________________________________________________\n"
     ]
    }
   ],
   "source": [
    "loaded_model.summary()"
   ]
  },
  {
   "cell_type": "code",
   "execution_count": 212,
   "metadata": {},
   "outputs": [],
   "source": [
    "predict = loaded_model.predict(X.reshape(-1, 1,150 ))"
   ]
  },
  {
   "cell_type": "code",
   "execution_count": 213,
   "metadata": {},
   "outputs": [],
   "source": [
    "df['Direction'] = (predict > 0.5).astype(int)"
   ]
  },
  {
   "cell_type": "code",
   "execution_count": 214,
   "metadata": {},
   "outputs": [],
   "source": [
    "df['Direction']=df['Direction'].replace(1, 'Long')"
   ]
  },
  {
   "cell_type": "code",
   "execution_count": 215,
   "metadata": {},
   "outputs": [],
   "source": [
    "df['Direction']= df['Direction'].replace(0, 'Short')"
   ]
  },
  {
   "cell_type": "code",
   "execution_count": 220,
   "metadata": {},
   "outputs": [],
   "source": [
    "tBTC = BTC.set_index('Time Stamp')"
   ]
  },
  {
   "cell_type": "code",
   "execution_count": 221,
   "metadata": {},
   "outputs": [],
   "source": [
    "tDf = df.set_index('Time Stamp')"
   ]
  },
  {
   "cell_type": "code",
   "execution_count": 239,
   "metadata": {},
   "outputs": [
    {
     "ename": "IndexError",
     "evalue": "arrays used as indices must be of integer (or boolean) type",
     "output_type": "error",
     "traceback": [
      "\u001b[1;31m---------------------------------------------------------------------------\u001b[0m",
      "\u001b[1;31mIndexError\u001b[0m                                Traceback (most recent call last)",
      "\u001b[1;32m<ipython-input-239-4775ae85bb6a>\u001b[0m in \u001b[0;36m<module>\u001b[1;34m()\u001b[0m\n\u001b[1;32m----> 1\u001b[1;33m \u001b[0mtDf\u001b[0m\u001b[1;33m.\u001b[0m\u001b[0mindex\u001b[0m\u001b[1;33m[\u001b[0m\u001b[0mtBTC\u001b[0m\u001b[1;33m.\u001b[0m\u001b[0mindex\u001b[0m\u001b[1;33m]\u001b[0m\u001b[1;33m\u001b[0m\u001b[0m\n\u001b[0m",
      "\u001b[1;32m~\\Anaconda3\\lib\\site-packages\\pandas\\core\\indexes\\base.py\u001b[0m in \u001b[0;36m__getitem__\u001b[1;34m(self, key)\u001b[0m\n\u001b[0;32m   1698\u001b[0m \u001b[1;33m\u001b[0m\u001b[0m\n\u001b[0;32m   1699\u001b[0m         \u001b[0mkey\u001b[0m \u001b[1;33m=\u001b[0m \u001b[0m_values_from_object\u001b[0m\u001b[1;33m(\u001b[0m\u001b[0mkey\u001b[0m\u001b[1;33m)\u001b[0m\u001b[1;33m\u001b[0m\u001b[0m\n\u001b[1;32m-> 1700\u001b[1;33m         \u001b[0mresult\u001b[0m \u001b[1;33m=\u001b[0m \u001b[0mgetitem\u001b[0m\u001b[1;33m(\u001b[0m\u001b[0mkey\u001b[0m\u001b[1;33m)\u001b[0m\u001b[1;33m\u001b[0m\u001b[0m\n\u001b[0m\u001b[0;32m   1701\u001b[0m         \u001b[1;32mif\u001b[0m \u001b[1;32mnot\u001b[0m \u001b[0mis_scalar\u001b[0m\u001b[1;33m(\u001b[0m\u001b[0mresult\u001b[0m\u001b[1;33m)\u001b[0m\u001b[1;33m:\u001b[0m\u001b[1;33m\u001b[0m\u001b[0m\n\u001b[0;32m   1702\u001b[0m             \u001b[1;32mreturn\u001b[0m \u001b[0mpromote\u001b[0m\u001b[1;33m(\u001b[0m\u001b[0mresult\u001b[0m\u001b[1;33m)\u001b[0m\u001b[1;33m\u001b[0m\u001b[0m\n",
      "\u001b[1;31mIndexError\u001b[0m: arrays used as indices must be of integer (or boolean) type"
     ]
    }
   ],
   "source": [
    "tDf.index[]"
   ]
  },
  {
   "cell_type": "code",
   "execution_count": 240,
   "metadata": {},
   "outputs": [
    {
     "data": {
      "text/plain": [
       "Float64Index([1528329347.0, 1528359434.0, 1528370137.0, 1528349435.0,\n",
       "              1528445997.0, 1528363835.0, 1528404671.0, 1528422751.0,\n",
       "              1528371476.0, 1528365153.0,\n",
       "              ...\n",
       "              1528371476.0, 1528365153.0, 1528398825.0, 1528363763.0,\n",
       "              1528367914.0, 1528396156.0, 1528342931.0, 1528382677.0,\n",
       "              1528403043.0, 1528389965.0],\n",
       "             dtype='float64', name='Time Stamp', length=1008)"
      ]
     },
     "execution_count": 240,
     "metadata": {},
     "output_type": "execute_result"
    }
   ],
   "source": [
    "tBTC.index"
   ]
  },
  {
   "cell_type": "code",
   "execution_count": null,
   "metadata": {
    "collapsed": true
   },
   "outputs": [],
   "source": []
  }
 ],
 "metadata": {
  "kernelspec": {
   "display_name": "Python 3",
   "language": "python",
   "name": "python3"
  },
  "language_info": {
   "codemirror_mode": {
    "name": "ipython",
    "version": 3
   },
   "file_extension": ".py",
   "mimetype": "text/x-python",
   "name": "python",
   "nbconvert_exporter": "python",
   "pygments_lexer": "ipython3",
   "version": "3.6.3"
  }
 },
 "nbformat": 4,
 "nbformat_minor": 2
}
