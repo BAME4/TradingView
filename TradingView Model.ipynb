{
 "cells": [
  {
   "cell_type": "code",
   "execution_count": 1,
   "metadata": {},
   "outputs": [
    {
     "name": "stderr",
     "output_type": "stream",
     "text": [
      "Using TensorFlow backend.\n",
      "C:\\Users\\saroj\\Anaconda3\\lib\\site-packages\\gensim\\utils.py:1197: UserWarning: detected Windows; aliasing chunkize to chunkize_serial\n",
      "  warnings.warn(\"detected Windows; aliasing chunkize to chunkize_serial\")\n"
     ]
    }
   ],
   "source": [
    "import pandas as pd\n",
    "import numpy as np\n",
    "import matplotlib.pyplot as plt\n",
    "\n",
    "from keras.models import Sequential\n",
    "from keras.models import Model\n",
    "from keras.layers import Dense,LSTM, SpatialDropout1D,Flatten, LSTM, Conv1D, MaxPooling1D, Dropout, Activation, Input \n",
    "from keras.layers.normalization import BatchNormalization\n",
    "\n",
    "from sklearn.ensemble import ExtraTreesClassifier\n",
    "\n",
    "from gensim.models.doc2vec import Doc2Vec, TaggedDocument\n",
    "from gensim import utils\n",
    "\n",
    "from nltk.tokenize import word_tokenize\n",
    "\n",
    "\n",
    "%matplotlib inline"
   ]
  },
  {
   "cell_type": "code",
   "execution_count": 2,
   "metadata": {
    "collapsed": true
   },
   "outputs": [],
   "source": [
    "def extract(coinname):\n",
    "    df = pd.read_csv('{}.csv'.format(coinname))\n",
    "    df = df.replace(np.inf, np.nan)\n",
    "    df = df.dropna(axis=0)\n",
    "    \n",
    "    return df"
   ]
  },
  {
   "cell_type": "code",
   "execution_count": 3,
   "metadata": {
    "collapsed": true
   },
   "outputs": [],
   "source": [
    "BTC = extract('BTCUSD')"
   ]
  },
  {
   "cell_type": "code",
   "execution_count": 4,
   "metadata": {
    "collapsed": true
   },
   "outputs": [],
   "source": [
    "BTC['Dec'] = BTC['Topic'] + BTC['Text']"
   ]
  },
  {
   "cell_type": "code",
   "execution_count": 5,
   "metadata": {
    "collapsed": true
   },
   "outputs": [],
   "source": [
    "ETH =extract('ETHUSD')"
   ]
  },
  {
   "cell_type": "code",
   "execution_count": 6,
   "metadata": {
    "collapsed": true
   },
   "outputs": [],
   "source": [
    "ETH['Dec'] = ETH['Topic'] + ETH['Text']"
   ]
  },
  {
   "cell_type": "code",
   "execution_count": 7,
   "metadata": {
    "collapsed": true
   },
   "outputs": [],
   "source": [
    "LTC =extract('LTCUSD')"
   ]
  },
  {
   "cell_type": "code",
   "execution_count": 8,
   "metadata": {
    "collapsed": true
   },
   "outputs": [],
   "source": [
    "LTC['Dec'] = LTC['Topic'] + LTC['Text']"
   ]
  },
  {
   "cell_type": "code",
   "execution_count": 9,
   "metadata": {
    "collapsed": true
   },
   "outputs": [],
   "source": [
    "XRP =extract('XRPUSD')"
   ]
  },
  {
   "cell_type": "code",
   "execution_count": 10,
   "metadata": {
    "collapsed": true
   },
   "outputs": [],
   "source": [
    "XRP['Dec'] = XRP['Topic'] + XRP['Text']"
   ]
  },
  {
   "cell_type": "code",
   "execution_count": 11,
   "metadata": {
    "collapsed": true
   },
   "outputs": [],
   "source": [
    "DASH =extract('DASHUSD')"
   ]
  },
  {
   "cell_type": "code",
   "execution_count": 12,
   "metadata": {
    "collapsed": true
   },
   "outputs": [],
   "source": [
    "DASH['Dec'] = DASH['Topic'] + DASH['Text']"
   ]
  },
  {
   "cell_type": "code",
   "execution_count": 13,
   "metadata": {
    "collapsed": true
   },
   "outputs": [],
   "source": [
    "DOGE =extract('DOGEUSD')"
   ]
  },
  {
   "cell_type": "code",
   "execution_count": 14,
   "metadata": {
    "collapsed": true
   },
   "outputs": [],
   "source": [
    "DOGE['Dec'] = DOGE['Topic'] + DOGE['Text']"
   ]
  },
  {
   "cell_type": "code",
   "execution_count": 15,
   "metadata": {
    "collapsed": true
   },
   "outputs": [],
   "source": [
    "STR =extract('STRUSD')"
   ]
  },
  {
   "cell_type": "code",
   "execution_count": 16,
   "metadata": {
    "collapsed": true
   },
   "outputs": [],
   "source": [
    "STR['Dec'] = STR['Topic'] + STR['Text']"
   ]
  },
  {
   "cell_type": "code",
   "execution_count": 17,
   "metadata": {
    "collapsed": true
   },
   "outputs": [],
   "source": [
    "XMR =extract('XMRUSD')"
   ]
  },
  {
   "cell_type": "code",
   "execution_count": 18,
   "metadata": {
    "collapsed": true
   },
   "outputs": [],
   "source": [
    "XMR['Dec'] = XMR['Topic'] + XMR['Text']"
   ]
  },
  {
   "cell_type": "code",
   "execution_count": null,
   "metadata": {
    "collapsed": true
   },
   "outputs": [],
   "source": []
  },
  {
   "cell_type": "code",
   "execution_count": 19,
   "metadata": {},
   "outputs": [
    {
     "name": "stderr",
     "output_type": "stream",
     "text": [
      "C:\\Users\\saroj\\Anaconda3\\lib\\site-packages\\ipykernel_launcher.py:13: UserWarning: Boolean Series key will be reindexed to match DataFrame index.\n",
      "  del sys.path[0]\n",
      "C:\\Users\\saroj\\Anaconda3\\lib\\site-packages\\ipykernel_launcher.py:15: UserWarning: Boolean Series key will be reindexed to match DataFrame index.\n",
      "  from ipykernel import kernelapp as app\n"
     ]
    }
   ],
   "source": [
    "df = pd.DataFrame(columns=['Dec',  'Direction'])\n",
    "\n",
    "b = BTC[(BTC['Direction'] == 'Long') | (BTC['Direction'] == 'Short')].reset_index(drop=True)[['Dec', 'Direction']]\n",
    "\n",
    "e = ETH[(ETH['Direction'] == 'Long') | (ETH['Direction'] == 'Short')].reset_index(drop=True)[['Dec', 'Direction']]\n",
    "\n",
    "l = LTC[(LTC['Direction'] == 'Long') | (LTC['Direction'] == 'Short')].reset_index(drop=True)[['Dec', 'Direction']]\n",
    "\n",
    "d = DASH[(DASH['Direction'] == 'Long') | (DASH['Direction'] == 'Short')].reset_index(drop=True)[['Dec', 'Direction']]\n",
    "\n",
    "x = XRP[(XRP['Direction'] == 'Long') | (XRP['Direction'] == 'Short')].reset_index(drop=True)[['Dec', 'Direction']]\n",
    "\n",
    "do = DOGE[(ETH['Direction'] == 'Long') | (DOGE['Direction'] == 'Short')].reset_index(drop=True)[['Dec', 'Direction']]\n",
    "\n",
    "s = STR[(ETH['Direction'] == 'Long') | (STR['Direction'] == 'Short')].reset_index(drop=True)[['Dec', 'Direction']]\n",
    "\n",
    "xm = XMR[(XMR['Direction'] == 'Long') | (XMR['Direction'] == 'Short')].reset_index(drop=True)[['Dec', 'Direction']]\n",
    "\n",
    "\n",
    "\n",
    "\n",
    "df = pd.concat([df, b, e, l, d, x, do, s, xm ])"
   ]
  },
  {
   "cell_type": "code",
   "execution_count": 20,
   "metadata": {
    "collapsed": true,
    "scrolled": true
   },
   "outputs": [],
   "source": [
    "df = df.reset_index(drop=True)"
   ]
  },
  {
   "cell_type": "code",
   "execution_count": 21,
   "metadata": {
    "collapsed": true
   },
   "outputs": [],
   "source": [
    "labeledRow = []"
   ]
  },
  {
   "cell_type": "code",
   "execution_count": 22,
   "metadata": {
    "collapsed": true
   },
   "outputs": [],
   "source": [
    "for idx, row in df['Dec'].iteritems():\n",
    "    labeledRow.append(TaggedDocument(utils.to_unicode(row).split(), ['Text' + '_%s' % str(idx)]))"
   ]
  },
  {
   "cell_type": "code",
   "execution_count": 23,
   "metadata": {},
   "outputs": [],
   "source": [
    "docModel = Doc2Vec(min_count=0, window=5, vector_size=150, sample=1e-4, negative=5, workers=4, epochs=5, seed=1)"
   ]
  },
  {
   "cell_type": "code",
   "execution_count": 24,
   "metadata": {
    "collapsed": true
   },
   "outputs": [],
   "source": [
    "docModel.build_vocab(labeledRow)"
   ]
  },
  {
   "cell_type": "code",
   "execution_count": 25,
   "metadata": {},
   "outputs": [
    {
     "name": "stderr",
     "output_type": "stream",
     "text": [
      "C:\\Users\\saroj\\Anaconda3\\lib\\site-packages\\ipykernel_launcher.py:1: DeprecationWarning: Call to deprecated `iter` (Attribute will be removed in 4.0.0, use self.epochs instead).\n",
      "  \"\"\"Entry point for launching an IPython kernel.\n"
     ]
    }
   ],
   "source": [
    "docModel.train(labeledRow, total_examples=docModel.corpus_count, epochs=docModel.iter)"
   ]
  },
  {
   "cell_type": "code",
   "execution_count": 26,
   "metadata": {
    "collapsed": true
   },
   "outputs": [],
   "source": [
    "X = np.zeros((df.shape[0], 150))"
   ]
  },
  {
   "cell_type": "code",
   "execution_count": null,
   "metadata": {
    "collapsed": true
   },
   "outputs": [],
   "source": []
  },
  {
   "cell_type": "code",
   "execution_count": 27,
   "metadata": {
    "collapsed": true
   },
   "outputs": [],
   "source": [
    "for i in range(df.shape[0]):\n",
    "    X[i] = docModel.docvecs['Text_'+str(i)]"
   ]
  },
  {
   "cell_type": "code",
   "execution_count": 28,
   "metadata": {
    "collapsed": true
   },
   "outputs": [],
   "source": [
    "df['Direction'] = df['Direction'].replace('Long', 1)"
   ]
  },
  {
   "cell_type": "code",
   "execution_count": 29,
   "metadata": {
    "collapsed": true
   },
   "outputs": [],
   "source": [
    "df['Direction'] = df['Direction'].replace('Short', 0)"
   ]
  },
  {
   "cell_type": "code",
   "execution_count": 30,
   "metadata": {
    "collapsed": true
   },
   "outputs": [],
   "source": [
    "Y = df['Direction']"
   ]
  },
  {
   "cell_type": "code",
   "execution_count": 31,
   "metadata": {},
   "outputs": [
    {
     "data": {
      "text/plain": [
       "(3485, 150)"
      ]
     },
     "execution_count": 31,
     "metadata": {},
     "output_type": "execute_result"
    }
   ],
   "source": [
    "X.shape"
   ]
  },
  {
   "cell_type": "code",
   "execution_count": 32,
   "metadata": {},
   "outputs": [
    {
     "data": {
      "text/plain": [
       "(3485,)"
      ]
     },
     "execution_count": 32,
     "metadata": {},
     "output_type": "execute_result"
    }
   ],
   "source": [
    "Y.shape"
   ]
  },
  {
   "cell_type": "code",
   "execution_count": 33,
   "metadata": {
    "collapsed": true
   },
   "outputs": [],
   "source": [
    "Xtrain = np.asarray(X[:3000])"
   ]
  },
  {
   "cell_type": "code",
   "execution_count": 34,
   "metadata": {
    "collapsed": true
   },
   "outputs": [],
   "source": [
    "Ytrain = np.asarray(Y[:3000])"
   ]
  },
  {
   "cell_type": "code",
   "execution_count": 35,
   "metadata": {
    "collapsed": true
   },
   "outputs": [],
   "source": [
    "Xtest = np.asarray(X[3000:])"
   ]
  },
  {
   "cell_type": "code",
   "execution_count": 36,
   "metadata": {
    "collapsed": true
   },
   "outputs": [],
   "source": [
    "Ytest = np.asarray(Y[3000:])"
   ]
  },
  {
   "cell_type": "code",
   "execution_count": null,
   "metadata": {},
   "outputs": [],
   "source": []
  },
  {
   "cell_type": "code",
   "execution_count": 37,
   "metadata": {
    "collapsed": true
   },
   "outputs": [],
   "source": [
    "#create model\n",
    "visible = Input(shape=(1, 150))\n",
    "\n",
    "hidden1 = LSTM(128, return_sequences=True)(visible)\n",
    "hidden1 = LSTM(128, return_sequences=True)(hidden1)\n",
    "\n",
    "\n",
    "hidden1  = Conv1D(filters=128, kernel_size=1, activation= 'relu')(hidden1)\n",
    "hidden1 = MaxPooling1D(pool_size= 3, padding='same')(hidden1)\n",
    "\n",
    "hidden1 = BatchNormalization()(hidden1)\n",
    "\n",
    "hidden1 = Dropout(2.0)(hidden1)\n",
    "\n",
    "hidden1  = Conv1D(filters=64, kernel_size=1, activation= 'relu')(hidden1)\n",
    "hidden1 = MaxPooling1D(pool_size= 2, padding='same')(hidden1)\n",
    "\n",
    "hidden1 = BatchNormalization()(hidden1)\n",
    "\n",
    "hidden1 = Flatten()(hidden1)\n",
    "\n",
    "hidden1 = Dropout(2.0)(hidden1)\n",
    "\n",
    "hidden1 = Dense(64, activation='relu')(hidden1)\n",
    "\n",
    "hidden1 = Dense(32, activation='relu')(hidden1)\n",
    "\n",
    "hidden1 = Dense(16, activation='relu')(hidden1)\n",
    "\n",
    "output = Dense(1, activation='sigmoid')(hidden1)\n",
    "\n",
    "model = Model(inputs=visible, outputs=output)\n"
   ]
  },
  {
   "cell_type": "code",
   "execution_count": 38,
   "metadata": {},
   "outputs": [
    {
     "name": "stdout",
     "output_type": "stream",
     "text": [
      "_________________________________________________________________\n",
      "Layer (type)                 Output Shape              Param #   \n",
      "=================================================================\n",
      "input_1 (InputLayer)         (None, 1, 150)            0         \n",
      "_________________________________________________________________\n",
      "lstm_1 (LSTM)                (None, 1, 128)            142848    \n",
      "_________________________________________________________________\n",
      "lstm_2 (LSTM)                (None, 1, 128)            131584    \n",
      "_________________________________________________________________\n",
      "conv1d_1 (Conv1D)            (None, 1, 128)            16512     \n",
      "_________________________________________________________________\n",
      "max_pooling1d_1 (MaxPooling1 (None, 1, 128)            0         \n",
      "_________________________________________________________________\n",
      "batch_normalization_1 (Batch (None, 1, 128)            512       \n",
      "_________________________________________________________________\n",
      "dropout_1 (Dropout)          (None, 1, 128)            0         \n",
      "_________________________________________________________________\n",
      "conv1d_2 (Conv1D)            (None, 1, 64)             8256      \n",
      "_________________________________________________________________\n",
      "max_pooling1d_2 (MaxPooling1 (None, 1, 64)             0         \n",
      "_________________________________________________________________\n",
      "batch_normalization_2 (Batch (None, 1, 64)             256       \n",
      "_________________________________________________________________\n",
      "flatten_1 (Flatten)          (None, 64)                0         \n",
      "_________________________________________________________________\n",
      "dropout_2 (Dropout)          (None, 64)                0         \n",
      "_________________________________________________________________\n",
      "dense_1 (Dense)              (None, 64)                4160      \n",
      "_________________________________________________________________\n",
      "dense_2 (Dense)              (None, 32)                2080      \n",
      "_________________________________________________________________\n",
      "dense_3 (Dense)              (None, 16)                528       \n",
      "_________________________________________________________________\n",
      "dense_4 (Dense)              (None, 1)                 17        \n",
      "=================================================================\n",
      "Total params: 306,753\n",
      "Trainable params: 306,369\n",
      "Non-trainable params: 384\n",
      "_________________________________________________________________\n"
     ]
    }
   ],
   "source": [
    "model.summary()"
   ]
  },
  {
   "cell_type": "code",
   "execution_count": 39,
   "metadata": {
    "collapsed": true
   },
   "outputs": [],
   "source": [
    "# Compile model\n",
    "model.compile(loss='binary_crossentropy', optimizer='adam', metrics=['accuracy'])"
   ]
  },
  {
   "cell_type": "code",
   "execution_count": 40,
   "metadata": {},
   "outputs": [
    {
     "name": "stdout",
     "output_type": "stream",
     "text": [
      "Train on 3000 samples, validate on 485 samples\n",
      "Epoch 1/50\n",
      "3000/3000 [==============================] - 5s 2ms/step - loss: 0.3754 - acc: 0.8540 - val_loss: 0.5449 - val_acc: 0.7196\n",
      "Epoch 2/50\n",
      "3000/3000 [==============================] - 1s 208us/step - loss: 0.1701 - acc: 0.9463 - val_loss: 0.5645 - val_acc: 0.7546\n",
      "Epoch 3/50\n",
      "3000/3000 [==============================] - 1s 213us/step - loss: 0.1007 - acc: 0.9737 - val_loss: 0.5579 - val_acc: 0.7423\n",
      "Epoch 4/50\n",
      "3000/3000 [==============================] - 1s 196us/step - loss: 0.0964 - acc: 0.9707 - val_loss: 0.5072 - val_acc: 0.8144\n",
      "Epoch 5/50\n",
      "3000/3000 [==============================] - 1s 198us/step - loss: 0.0978 - acc: 0.9693 - val_loss: 0.4261 - val_acc: 0.7835\n",
      "Epoch 6/50\n",
      "3000/3000 [==============================] - 1s 250us/step - loss: 0.0832 - acc: 0.9763 - val_loss: 0.9899 - val_acc: 0.5711\n",
      "Epoch 7/50\n",
      "3000/3000 [==============================] - 1s 234us/step - loss: 0.0917 - acc: 0.9733 - val_loss: 7.4705 - val_acc: 0.3113\n",
      "Epoch 8/50\n",
      "3000/3000 [==============================] - 1s 240us/step - loss: 0.0881 - acc: 0.9700 - val_loss: 0.3797 - val_acc: 0.8165\n",
      "Epoch 9/50\n",
      "3000/3000 [==============================] - 1s 219us/step - loss: 0.0777 - acc: 0.9793 - val_loss: 1.8151 - val_acc: 0.4557\n",
      "Epoch 10/50\n",
      "3000/3000 [==============================] - 1s 224us/step - loss: 0.0711 - acc: 0.9773 - val_loss: 0.2306 - val_acc: 0.8948\n",
      "Epoch 11/50\n",
      "3000/3000 [==============================] - 1s 266us/step - loss: 0.0742 - acc: 0.9777 - val_loss: 0.7084 - val_acc: 0.6660\n",
      "Epoch 12/50\n",
      "3000/3000 [==============================] - 1s 229us/step - loss: 0.0622 - acc: 0.9817 - val_loss: 0.3462 - val_acc: 0.8515\n",
      "Epoch 13/50\n",
      "3000/3000 [==============================] - 1s 208us/step - loss: 0.0625 - acc: 0.9797 - val_loss: 1.6179 - val_acc: 0.4825\n",
      "Epoch 14/50\n",
      "3000/3000 [==============================] - 1s 203us/step - loss: 0.1084 - acc: 0.9680 - val_loss: 0.6098 - val_acc: 0.7443\n",
      "Epoch 15/50\n",
      "3000/3000 [==============================] - 1s 208us/step - loss: 0.0578 - acc: 0.9823 - val_loss: 0.9709 - val_acc: 0.7979\n",
      "Epoch 16/50\n",
      "3000/3000 [==============================] - 1s 229us/step - loss: 0.0598 - acc: 0.9817 - val_loss: 0.7679 - val_acc: 0.6887\n",
      "Epoch 17/50\n",
      "3000/3000 [==============================] - 1s 234us/step - loss: 0.0671 - acc: 0.9773 - val_loss: 0.3716 - val_acc: 0.8144\n",
      "Epoch 18/50\n",
      "3000/3000 [==============================] - 1s 281us/step - loss: 0.0586 - acc: 0.9813 - val_loss: 0.2447 - val_acc: 0.8969\n",
      "Epoch 19/50\n",
      "3000/3000 [==============================] - 1s 224us/step - loss: 0.0443 - acc: 0.9870 - val_loss: 0.2942 - val_acc: 0.8433\n",
      "Epoch 20/50\n",
      "3000/3000 [==============================] - 1s 203us/step - loss: 0.0435 - acc: 0.9880 - val_loss: 1.2893 - val_acc: 0.8144\n",
      "Epoch 21/50\n",
      "3000/3000 [==============================] - 1s 210us/step - loss: 0.0397 - acc: 0.9890 - val_loss: 1.0086 - val_acc: 0.7876\n",
      "Epoch 22/50\n",
      "3000/3000 [==============================] - 1s 206us/step - loss: 0.0562 - acc: 0.9797 - val_loss: 0.7271 - val_acc: 0.8206\n",
      "Epoch 23/50\n",
      "3000/3000 [==============================] - 1s 217us/step - loss: 0.0652 - acc: 0.9783 - val_loss: 2.2552 - val_acc: 0.7526\n",
      "Epoch 24/50\n",
      "3000/3000 [==============================] - 1s 194us/step - loss: 0.0554 - acc: 0.9833 - val_loss: 0.4201 - val_acc: 0.8742\n",
      "Epoch 25/50\n",
      "3000/3000 [==============================] - 1s 243us/step - loss: 0.0413 - acc: 0.9877 - val_loss: 0.1846 - val_acc: 0.9113\n",
      "Epoch 26/50\n",
      "3000/3000 [==============================] - 1s 194us/step - loss: 0.0334 - acc: 0.9903 - val_loss: 0.4842 - val_acc: 0.8680\n",
      "Epoch 27/50\n",
      "3000/3000 [==============================] - 1s 194us/step - loss: 0.0541 - acc: 0.9790 - val_loss: 1.5874 - val_acc: 0.7711\n",
      "Epoch 28/50\n",
      "3000/3000 [==============================] - 1s 201us/step - loss: 0.0465 - acc: 0.9860 - val_loss: 0.7913 - val_acc: 0.8062\n",
      "Epoch 29/50\n",
      "3000/3000 [==============================] - 1s 201us/step - loss: 0.0368 - acc: 0.9867 - val_loss: 0.2292 - val_acc: 0.9093\n",
      "Epoch 30/50\n",
      "3000/3000 [==============================] - 1s 190us/step - loss: 0.0499 - acc: 0.9850 - val_loss: 2.9454 - val_acc: 0.4515\n",
      "Epoch 31/50\n",
      "3000/3000 [==============================] - 1s 195us/step - loss: 0.0492 - acc: 0.9833 - val_loss: 0.1441 - val_acc: 0.9505\n",
      "Epoch 32/50\n",
      "3000/3000 [==============================] - 1s 187us/step - loss: 0.0368 - acc: 0.9890 - val_loss: 0.2948 - val_acc: 0.8680\n",
      "Epoch 33/50\n",
      "3000/3000 [==============================] - 1s 187us/step - loss: 0.0341 - acc: 0.9910 - val_loss: 1.0476 - val_acc: 0.8124\n",
      "Epoch 34/50\n",
      "3000/3000 [==============================] - 1s 191us/step - loss: 0.0417 - acc: 0.9870 - val_loss: 1.6817 - val_acc: 0.7546\n",
      "Epoch 35/50\n",
      "3000/3000 [==============================] - 1s 193us/step - loss: 0.0428 - acc: 0.9860 - val_loss: 2.4985 - val_acc: 0.5546\n",
      "Epoch 36/50\n",
      "3000/3000 [==============================] - 1s 199us/step - loss: 0.0345 - acc: 0.9887 - val_loss: 0.4312 - val_acc: 0.7608\n",
      "Epoch 37/50\n",
      "3000/3000 [==============================] - 1s 200us/step - loss: 0.0458 - acc: 0.9827 - val_loss: 0.6359 - val_acc: 0.8268\n",
      "Epoch 38/50\n",
      "3000/3000 [==============================] - 1s 233us/step - loss: 0.0625 - acc: 0.9800 - val_loss: 1.4487 - val_acc: 0.8144\n",
      "Epoch 39/50\n",
      "3000/3000 [==============================] - 1s 198us/step - loss: 0.0395 - acc: 0.9873 - val_loss: 1.3004 - val_acc: 0.6309\n",
      "Epoch 40/50\n",
      "3000/3000 [==============================] - 1s 246us/step - loss: 0.0335 - acc: 0.9887 - val_loss: 0.2875 - val_acc: 0.8969\n",
      "Epoch 41/50\n",
      "3000/3000 [==============================] - 1s 201us/step - loss: 0.0385 - acc: 0.9863 - val_loss: 0.5901 - val_acc: 0.8763\n",
      "Epoch 42/50\n",
      "3000/3000 [==============================] - 1s 195us/step - loss: 0.0318 - acc: 0.9897 - val_loss: 0.6987 - val_acc: 0.8536\n",
      "Epoch 43/50\n",
      "3000/3000 [==============================] - 1s 187us/step - loss: 0.0331 - acc: 0.9883 - val_loss: 1.0001 - val_acc: 0.8227\n",
      "Epoch 44/50\n",
      "3000/3000 [==============================] - 1s 195us/step - loss: 0.0441 - acc: 0.9820 - val_loss: 0.2113 - val_acc: 0.9031\n",
      "Epoch 45/50\n",
      "3000/3000 [==============================] - 1s 193us/step - loss: 0.0324 - acc: 0.9910 - val_loss: 0.3351 - val_acc: 0.8928\n",
      "Epoch 46/50\n",
      "3000/3000 [==============================] - 1s 187us/step - loss: 0.0318 - acc: 0.9890 - val_loss: 0.3079 - val_acc: 0.8948\n",
      "Epoch 47/50\n",
      "3000/3000 [==============================] - 1s 187us/step - loss: 0.0298 - acc: 0.9910 - val_loss: 0.1898 - val_acc: 0.9340\n",
      "Epoch 48/50\n",
      "3000/3000 [==============================] - 1s 193us/step - loss: 0.0247 - acc: 0.9913 - val_loss: 0.3950 - val_acc: 0.8186\n",
      "Epoch 49/50\n",
      "3000/3000 [==============================] - 1s 190us/step - loss: 0.0249 - acc: 0.9927 - val_loss: 0.1576 - val_acc: 0.9402\n",
      "Epoch 50/50\n",
      "3000/3000 [==============================] - 1s 187us/step - loss: 0.0291 - acc: 0.9893 - val_loss: 0.9936 - val_acc: 0.8165\n"
     ]
    },
    {
     "data": {
      "text/plain": [
       "<keras.callbacks.History at 0x2df1993ff60>"
      ]
     },
     "execution_count": 40,
     "metadata": {},
     "output_type": "execute_result"
    }
   ],
   "source": [
    "#Fitting model\n",
    "model.fit(Xtrain.reshape(-1, 1,150 ), Ytrain, epochs=50, batch_size=64, validation_data=(Xtest.reshape(-1, 1,150 ), Ytest))"
   ]
  },
  {
   "cell_type": "code",
   "execution_count": 41,
   "metadata": {
    "collapsed": true
   },
   "outputs": [],
   "source": [
    "# serialize model to JSON\n",
    "model_json = model.to_json()\n",
    "with open(\"model.json\", \"w\") as json_file:\n",
    "    json_file.write(model_json)\n"
   ]
  },
  {
   "cell_type": "code",
   "execution_count": 42,
   "metadata": {},
   "outputs": [
    {
     "name": "stdout",
     "output_type": "stream",
     "text": [
      "Saved model to disk\n"
     ]
    }
   ],
   "source": [
    "# serialize weights to HDF5\n",
    "model.save_weights(\"model.h5\")\n",
    "print(\"Saved model to disk\")"
   ]
  },
  {
   "cell_type": "code",
   "execution_count": null,
   "metadata": {
    "collapsed": true
   },
   "outputs": [],
   "source": []
  }
 ],
 "metadata": {
  "kernelspec": {
   "display_name": "Python 3",
   "language": "python",
   "name": "python3"
  },
  "language_info": {
   "codemirror_mode": {
    "name": "ipython",
    "version": 3
   },
   "file_extension": ".py",
   "mimetype": "text/x-python",
   "name": "python",
   "nbconvert_exporter": "python",
   "pygments_lexer": "ipython3",
   "version": "3.6.5"
  }
 },
 "nbformat": 4,
 "nbformat_minor": 2
}
