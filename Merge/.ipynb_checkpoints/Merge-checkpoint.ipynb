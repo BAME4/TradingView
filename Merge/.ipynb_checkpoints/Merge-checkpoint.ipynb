{
 "cells": [
  {
   "cell_type": "code",
   "execution_count": 2,
   "metadata": {},
   "outputs": [],
   "source": [
    "import pandas as pd\n",
    "import numpy as np\n",
    "from datetime import date, timedelta\n",
    "import datetime\n",
    "import time\n",
    "\n",
    "import numpy as np\n",
    "\n",
    "import re"
   ]
  },
  {
   "cell_type": "code",
   "execution_count": 3,
   "metadata": {},
   "outputs": [],
   "source": [
    "def extract(coinname):\n",
    "    df = pd.read_csv('{}.csv'.format(coinname), engine='python')\n",
    "    return df"
   ]
  },
  {
   "cell_type": "code",
   "execution_count": 56,
   "metadata": {},
   "outputs": [],
   "source": [
    "def merge_data(tradingview,df):\n",
    "    new = pd.DataFrame(columns=['Date', 'Trading View'])\n",
    "    new['Date'] = df[(df['Date'] > tradingview['Time Stamp'][0]) & (df['Date'] < tradingview['Time Stamp'].iloc[-1])]['Date']\n",
    "    \n",
    "    new = new.reset_index(drop=True)\n",
    "\n",
    "    oldDate = new['Date'][0]\n",
    "\n",
    "    for i in range(new.shape[0]):\n",
    "        valsBetween = tradingview[tradingview['Time Stamp'] > oldDate]\n",
    "        valsBetween = valsBetween[tradingview['Time Stamp']  < new['Date'][i]]\n",
    "\n",
    "        #cols = 'title ' + valsBetween['title'] + ' score ' + valsBetween['score'].apply(lambda x: num2words(x)) + ' comments ' + valsBetween['num_comments'].apply(lambda x: num2words(x))\n",
    "        cols = 'Dec' + valsBetween['Dec'] + ' Views ' + valsBetween['Views'].map(str) + ' Like ' + valsBetween['Like'].map(str)\n",
    "        new['Trading View'][i] = (cols.str.cat(sep='\\n'))\n",
    "        oldDate = new['Date'][i]\n",
    "        \n",
    "    return new"
   ]
  },
  {
   "cell_type": "code",
   "execution_count": 57,
   "metadata": {},
   "outputs": [],
   "source": [
    "price = pd.read_csv('Price/BTC.csv',engine='python' )"
   ]
  },
  {
   "cell_type": "code",
   "execution_count": 58,
   "metadata": {},
   "outputs": [],
   "source": [
    "tradingview = extract('BTC')"
   ]
  },
  {
   "cell_type": "code",
   "execution_count": 59,
   "metadata": {},
   "outputs": [],
   "source": [
    "tradingview['Time Stamp'] = tradingview['Time Stamp'].astype(int)"
   ]
  },
  {
   "cell_type": "code",
   "execution_count": 60,
   "metadata": {},
   "outputs": [
    {
     "name": "stderr",
     "output_type": "stream",
     "text": [
      "c:\\users\\user\\appdata\\local\\programs\\python\\python36\\lib\\site-packages\\ipykernel_launcher.py:11: UserWarning: Boolean Series key will be reindexed to match DataFrame index.\n",
      "  # This is added back by InteractiveShellApp.init_path()\n",
      "c:\\users\\user\\appdata\\local\\programs\\python\\python36\\lib\\site-packages\\ipykernel_launcher.py:15: SettingWithCopyWarning: \n",
      "A value is trying to be set on a copy of a slice from a DataFrame\n",
      "\n",
      "See the caveats in the documentation: http://pandas.pydata.org/pandas-docs/stable/indexing.html#indexing-view-versus-copy\n",
      "  from ipykernel import kernelapp as app\n"
     ]
    }
   ],
   "source": [
    "new = merge_data(tradingview, price)"
   ]
  },
  {
   "cell_type": "code",
   "execution_count": null,
   "metadata": {},
   "outputs": [],
   "source": []
  }
 ],
 "metadata": {
  "kernelspec": {
   "display_name": "Python 3",
   "language": "python",
   "name": "python3"
  },
  "language_info": {
   "codemirror_mode": {
    "name": "ipython",
    "version": 3
   },
   "file_extension": ".py",
   "mimetype": "text/x-python",
   "name": "python",
   "nbconvert_exporter": "python",
   "pygments_lexer": "ipython3",
   "version": "3.6.5"
  }
 },
 "nbformat": 4,
 "nbformat_minor": 2
}
